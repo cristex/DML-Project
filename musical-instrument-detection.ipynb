{
 "cells": [
  {
   "cell_type": "markdown",
   "metadata": {},
   "source": [
    "# Importing libraries"
   ]
  },
  {
   "cell_type": "code",
   "execution_count": 67,
   "metadata": {
    "execution": {
     "iopub.execute_input": "2023-08-25T18:32:37.658225Z",
     "iopub.status.busy": "2023-08-25T18:32:37.657740Z",
     "iopub.status.idle": "2023-08-25T18:35:21.089980Z",
     "shell.execute_reply": "2023-08-25T18:35:21.088611Z",
     "shell.execute_reply.started": "2023-08-25T18:32:37.658179Z"
    }
   },
   "outputs": [
    {
     "name": "stdout",
     "output_type": "stream",
     "text": [
      "Collecting librosa\n",
      "  Obtaining dependency information for librosa from https://files.pythonhosted.org/packages/e2/a2/4f639c1168d7aada749a896afb4892a831e2041bebdcf636aebfe9e86556/librosa-0.10.1-py3-none-any.whl.metadata\n",
      "  Downloading librosa-0.10.1-py3-none-any.whl.metadata (8.3 kB)\n",
      "Collecting audioread>=2.1.9 (from librosa)\n",
      "  Obtaining dependency information for audioread>=2.1.9 from https://files.pythonhosted.org/packages/57/8d/30aa32745af16af0a9a650115fbe81bde7c610ed5c21b381fca0196f3a7f/audioread-3.0.1-py3-none-any.whl.metadata\n",
      "  Downloading audioread-3.0.1-py3-none-any.whl.metadata (8.4 kB)\n",
      "Requirement already satisfied: numpy!=1.22.0,!=1.22.1,!=1.22.2,>=1.20.3 in c:\\users\\sara\\anaconda3\\envs\\dml\\lib\\site-packages (from librosa) (1.25.2)\n",
      "Requirement already satisfied: scipy>=1.2.0 in c:\\users\\sara\\anaconda3\\envs\\dml\\lib\\site-packages (from librosa) (1.11.1)\n",
      "Requirement already satisfied: scikit-learn>=0.20.0 in c:\\users\\sara\\anaconda3\\envs\\dml\\lib\\site-packages (from librosa) (1.3.0)\n",
      "Requirement already satisfied: joblib>=0.14 in c:\\users\\sara\\anaconda3\\envs\\dml\\lib\\site-packages (from librosa) (1.2.0)\n",
      "Requirement already satisfied: decorator>=4.3.0 in c:\\users\\sara\\anaconda3\\envs\\dml\\lib\\site-packages (from librosa) (5.1.1)\n",
      "Collecting numba>=0.51.0 (from librosa)\n",
      "  Obtaining dependency information for numba>=0.51.0 from https://files.pythonhosted.org/packages/2c/31/121c11175e49482ef5f8472966f15a02054082c33de6e6a5ca5e59aef3ae/numba-0.58.0-cp39-cp39-win_amd64.whl.metadata\n",
      "  Downloading numba-0.58.0-cp39-cp39-win_amd64.whl.metadata (2.8 kB)\n",
      "Requirement already satisfied: soundfile>=0.12.1 in c:\\users\\sara\\anaconda3\\envs\\dml\\lib\\site-packages (from librosa) (0.12.1)\n",
      "Collecting pooch>=1.0 (from librosa)\n",
      "  Downloading pooch-1.7.0-py3-none-any.whl (60 kB)\n",
      "     ---------------------------------------- 0.0/60.9 kB ? eta -:--:--\n",
      "     ---------------------------------------- 60.9/60.9 kB 3.2 MB/s eta 0:00:00\n",
      "Collecting soxr>=0.3.2 (from librosa)\n",
      "  Obtaining dependency information for soxr>=0.3.2 from https://files.pythonhosted.org/packages/8b/a1/f1a343ff7d37b00931f76f629ea121df6b639d80765d67b41faa521ce692/soxr-0.3.7-cp39-cp39-win_amd64.whl.metadata\n",
      "  Downloading soxr-0.3.7-cp39-cp39-win_amd64.whl.metadata (5.7 kB)\n",
      "Requirement already satisfied: typing-extensions>=4.1.1 in c:\\users\\sara\\anaconda3\\envs\\dml\\lib\\site-packages (from librosa) (4.7.1)\n",
      "Collecting lazy-loader>=0.1 (from librosa)\n",
      "  Obtaining dependency information for lazy-loader>=0.1 from https://files.pythonhosted.org/packages/a1/c3/65b3814e155836acacf720e5be3b5757130346670ac454fee29d3eda1381/lazy_loader-0.3-py3-none-any.whl.metadata\n",
      "  Downloading lazy_loader-0.3-py3-none-any.whl.metadata (4.3 kB)\n",
      "Collecting msgpack>=1.0 (from librosa)\n",
      "  Obtaining dependency information for msgpack>=1.0 from https://files.pythonhosted.org/packages/40/3f/d7e9327123445429a166a86b4f3b27b161b2bba1fe0710210bd8a0a46325/msgpack-1.0.7-cp39-cp39-win_amd64.whl.metadata\n",
      "  Downloading msgpack-1.0.7-cp39-cp39-win_amd64.whl.metadata (9.4 kB)\n",
      "Collecting llvmlite<0.42,>=0.41.0dev0 (from numba>=0.51.0->librosa)\n",
      "  Obtaining dependency information for llvmlite<0.42,>=0.41.0dev0 from https://files.pythonhosted.org/packages/79/26/50423498efeca0bf422a0f6d7d5795324403595c15069d35824e8a75732e/llvmlite-0.41.0-cp39-cp39-win_amd64.whl.metadata\n",
      "  Downloading llvmlite-0.41.0-cp39-cp39-win_amd64.whl.metadata (5.0 kB)\n",
      "Requirement already satisfied: platformdirs>=2.5.0 in c:\\users\\sara\\anaconda3\\envs\\dml\\lib\\site-packages (from pooch>=1.0->librosa) (3.10.0)\n",
      "Requirement already satisfied: packaging>=20.0 in c:\\users\\sara\\anaconda3\\envs\\dml\\lib\\site-packages (from pooch>=1.0->librosa) (23.0)\n",
      "Requirement already satisfied: requests>=2.19.0 in c:\\users\\sara\\anaconda3\\envs\\dml\\lib\\site-packages (from pooch>=1.0->librosa) (2.31.0)\n",
      "Requirement already satisfied: threadpoolctl>=2.0.0 in c:\\users\\sara\\anaconda3\\envs\\dml\\lib\\site-packages (from scikit-learn>=0.20.0->librosa) (2.2.0)\n",
      "Requirement already satisfied: cffi>=1.0 in c:\\users\\sara\\anaconda3\\envs\\dml\\lib\\site-packages (from soundfile>=0.12.1->librosa) (1.15.1)\n",
      "Requirement already satisfied: pycparser in c:\\users\\sara\\anaconda3\\envs\\dml\\lib\\site-packages (from cffi>=1.0->soundfile>=0.12.1->librosa) (2.21)\n",
      "Requirement already satisfied: charset-normalizer<4,>=2 in c:\\users\\sara\\anaconda3\\envs\\dml\\lib\\site-packages (from requests>=2.19.0->pooch>=1.0->librosa) (2.0.4)\n",
      "Requirement already satisfied: idna<4,>=2.5 in c:\\users\\sara\\anaconda3\\envs\\dml\\lib\\site-packages (from requests>=2.19.0->pooch>=1.0->librosa) (3.4)\n",
      "Requirement already satisfied: urllib3<3,>=1.21.1 in c:\\users\\sara\\anaconda3\\envs\\dml\\lib\\site-packages (from requests>=2.19.0->pooch>=1.0->librosa) (1.26.16)\n",
      "Requirement already satisfied: certifi>=2017.4.17 in c:\\users\\sara\\anaconda3\\envs\\dml\\lib\\site-packages (from requests>=2.19.0->pooch>=1.0->librosa) (2023.7.22)\n",
      "Downloading librosa-0.10.1-py3-none-any.whl (253 kB)\n",
      "   ---------------------------------------- 0.0/253.7 kB ? eta -:--:--\n",
      "   ---------------------------------------- 253.7/253.7 kB 7.9 MB/s eta 0:00:00\n",
      "Downloading audioread-3.0.1-py3-none-any.whl (23 kB)\n",
      "Downloading lazy_loader-0.3-py3-none-any.whl (9.1 kB)\n",
      "Downloading msgpack-1.0.7-cp39-cp39-win_amd64.whl (222 kB)\n",
      "   ---------------------------------------- 0.0/222.7 kB ? eta -:--:--\n",
      "   --------------------------------------- 222.7/222.7 kB 13.3 MB/s eta 0:00:00\n",
      "Downloading numba-0.58.0-cp39-cp39-win_amd64.whl (2.6 MB)\n",
      "   ---------------------------------------- 0.0/2.6 MB ? eta -:--:--\n",
      "   -------- ------------------------------- 0.6/2.6 MB 35.8 MB/s eta 0:00:01\n",
      "   ------------------------ --------------- 1.6/2.6 MB 20.7 MB/s eta 0:00:01\n",
      "   ---------------------------------------  2.6/2.6 MB 23.8 MB/s eta 0:00:01\n",
      "   ---------------------------------------- 2.6/2.6 MB 18.4 MB/s eta 0:00:00\n",
      "Downloading soxr-0.3.7-cp39-cp39-win_amd64.whl (184 kB)\n",
      "   ---------------------------------------- 0.0/184.8 kB ? eta -:--:--\n",
      "   --------------------------------------- 184.8/184.8 kB 10.9 MB/s eta 0:00:00\n",
      "Downloading llvmlite-0.41.0-cp39-cp39-win_amd64.whl (28.1 MB)\n",
      "   ---------------------------------------- 0.0/28.1 MB ? eta -:--:--\n",
      "   ---------------------------------------- 0.3/28.1 MB ? eta -:--:--\n",
      "   -- ------------------------------------- 1.9/28.1 MB 29.9 MB/s eta 0:00:01\n",
      "   ---- ----------------------------------- 3.4/28.1 MB 30.8 MB/s eta 0:00:01\n",
      "   ------ --------------------------------- 4.9/28.1 MB 28.3 MB/s eta 0:00:01\n",
      "   -------- ------------------------------- 6.2/28.1 MB 28.4 MB/s eta 0:00:01\n",
      "   ---------- ----------------------------- 7.1/28.1 MB 28.2 MB/s eta 0:00:01\n",
      "   ------------ --------------------------- 8.8/28.1 MB 28.3 MB/s eta 0:00:01\n",
      "   -------------- ------------------------- 10.1/28.1 MB 28.2 MB/s eta 0:00:01\n",
      "   --------------- ------------------------ 10.8/28.1 MB 28.5 MB/s eta 0:00:01\n",
      "   ------------------ --------------------- 12.7/28.1 MB 28.5 MB/s eta 0:00:01\n",
      "   -------------------- ------------------- 14.2/28.1 MB 29.7 MB/s eta 0:00:01\n",
      "   ---------------------- ----------------- 15.7/28.1 MB 28.4 MB/s eta 0:00:01\n",
      "   ------------------------ --------------- 17.2/28.1 MB 29.7 MB/s eta 0:00:01\n",
      "   -------------------------- ------------- 18.5/28.1 MB 31.2 MB/s eta 0:00:01\n",
      "   ---------------------------- ----------- 19.9/28.1 MB 29.8 MB/s eta 0:00:01\n",
      "   ---------------------------- ----------- 20.2/28.1 MB 28.5 MB/s eta 0:00:01\n",
      "   ------------------------------- -------- 22.2/28.1 MB 28.5 MB/s eta 0:00:01\n",
      "   --------------------------------- ------ 23.9/28.1 MB 29.7 MB/s eta 0:00:01\n",
      "   ---------------------------------- ----- 24.5/28.1 MB 28.5 MB/s eta 0:00:01\n",
      "   ------------------------------------- -- 26.1/28.1 MB 28.5 MB/s eta 0:00:01\n",
      "   ---------------------------------------  27.5/28.1 MB 28.5 MB/s eta 0:00:01\n",
      "   ---------------------------------------  28.1/28.1 MB 27.3 MB/s eta 0:00:01\n",
      "   ---------------------------------------  28.1/28.1 MB 27.3 MB/s eta 0:00:01\n",
      "   ---------------------------------------  28.1/28.1 MB 27.3 MB/s eta 0:00:01\n",
      "   ---------------------------------------- 28.1/28.1 MB 20.5 MB/s eta 0:00:00\n",
      "Installing collected packages: soxr, msgpack, llvmlite, lazy-loader, audioread, pooch, numba, librosa\n",
      "Successfully installed audioread-3.0.1 lazy-loader-0.3 librosa-0.10.1 llvmlite-0.41.0 msgpack-1.0.7 numba-0.58.0 pooch-1.7.0 soxr-0.3.7\n",
      "Note: you may need to restart the kernel to use updated packages.\n"
     ]
    },
    {
     "name": "stdout",
     "output_type": "stream",
     "text": [
      "Note: you may need to restart the kernel to use updated packages.\n",
      "Note: you may need to restart the kernel to use updated packages.\n",
      "Note: you may need to restart the kernel to use updated packages.\n",
      "Note: you may need to restart the kernel to use updated packages.\n",
      "Requirement already satisfied: soundfile in c:\\users\\sara\\anaconda3\\envs\\dml\\lib\\site-packages (0.12.1)\n",
      "Requirement already satisfied: cffi>=1.0 in c:\\users\\sara\\anaconda3\\envs\\dml\\lib\\site-packages (from soundfile) (1.15.1)\n",
      "Requirement already satisfied: pycparser in c:\\users\\sara\\anaconda3\\envs\\dml\\lib\\site-packages (from cffi>=1.0->soundfile) (2.21)\n",
      "Note: you may need to restart the kernel to use updated packages.\n"
     ]
    }
   ],
   "source": [
    "#%pip install pydub\n",
    "%pip install librosa\n",
    "%pip install -q evaluate transformers==4.28.1\n",
    "%pip install -U -q datasets\n",
    "%pip install -q torchaudio==0.12\n",
    "#%add-apt-repository -y ppa:savoury1/ffmpeg4 \n",
    "#%apt-get -qq install -y ffmpeg\n",
    "%pip install -q mlflow\n",
    "%pip install soundfile"
   ]
  },
  {
   "cell_type": "code",
   "execution_count": 1,
   "metadata": {
    "execution": {
     "iopub.execute_input": "2023-08-25T18:35:21.092757Z",
     "iopub.status.busy": "2023-08-25T18:35:21.092447Z",
     "iopub.status.idle": "2023-08-25T18:35:25.271497Z",
     "shell.execute_reply": "2023-08-25T18:35:25.269527Z",
     "shell.execute_reply.started": "2023-08-25T18:35:21.092731Z"
    }
   },
   "outputs": [
    {
     "name": "stdout",
     "output_type": "stream",
     "text": [
      "4.28.1\n"
     ]
    }
   ],
   "source": [
    "#imports\n",
    "import pandas as pd\n",
    "import gc\n",
    "import re\n",
    "import numpy as np\n",
    "\n",
    "import warnings \n",
    "warnings.filterwarnings(\"ignore\")\n",
    "\n",
    "from tqdm import tqdm\n",
    "tqdm.pandas()\n",
    "#from imblearn.over_sampling import RandomOverSampler\n",
    "#from imblearn.under_sampling import RandomUnderSampler\n",
    "import torch\n",
    "import datasets\n",
    "import transformers\n",
    "print(transformers.__version__)"
   ]
  },
  {
   "cell_type": "markdown",
   "metadata": {},
   "source": [
    "# Adding all files to dataframe df"
   ]
  },
  {
   "cell_type": "code",
   "execution_count": 2,
   "metadata": {
    "execution": {
     "iopub.execute_input": "2023-08-25T18:59:17.462661Z",
     "iopub.status.busy": "2023-08-25T18:59:17.462252Z",
     "iopub.status.idle": "2023-08-25T18:59:17.492446Z",
     "shell.execute_reply": "2023-08-25T18:59:17.491547Z",
     "shell.execute_reply.started": "2023-08-25T18:59:17.462627Z"
    }
   },
   "outputs": [
    {
     "name": "stdout",
     "output_type": "stream",
     "text": [
      "(1989, 2)\n"
     ]
    },
    {
     "data": {
      "text/html": [
       "<div>\n",
       "<style scoped>\n",
       "    .dataframe tbody tr th:only-of-type {\n",
       "        vertical-align: middle;\n",
       "    }\n",
       "\n",
       "    .dataframe tbody tr th {\n",
       "        vertical-align: top;\n",
       "    }\n",
       "\n",
       "    .dataframe thead th {\n",
       "        text-align: right;\n",
       "    }\n",
       "</style>\n",
       "<table border=\"1\" class=\"dataframe\">\n",
       "  <thead>\n",
       "    <tr style=\"text-align: right;\">\n",
       "      <th></th>\n",
       "      <th>393</th>\n",
       "      <th>1262</th>\n",
       "      <th>2496</th>\n",
       "      <th>2114</th>\n",
       "      <th>86</th>\n",
       "    </tr>\n",
       "  </thead>\n",
       "  <tbody>\n",
       "    <tr>\n",
       "      <th>FileName</th>\n",
       "      <td>G53-64600-1111-300.wav</td>\n",
       "      <td>WaveDrum02_43HH (96).wav</td>\n",
       "      <td>ROOM_room6_MUS_pachelbel_DEV_stereomic.wav</td>\n",
       "      <td>do-80236.wav</td>\n",
       "      <td>AR_Lick7_FN.wav</td>\n",
       "    </tr>\n",
       "    <tr>\n",
       "      <th>Class</th>\n",
       "      <td>Sound_Guitar</td>\n",
       "      <td>Sound_Drum</td>\n",
       "      <td>Sound_Piano</td>\n",
       "      <td>Sound_Piano</td>\n",
       "      <td>Sound_Guitar</td>\n",
       "    </tr>\n",
       "  </tbody>\n",
       "</table>\n",
       "</div>"
      ],
      "text/plain": [
       "                            393                       1262  \\\n",
       "FileName  G53-64600-1111-300.wav  WaveDrum02_43HH (96).wav   \n",
       "Class               Sound_Guitar                Sound_Drum   \n",
       "\n",
       "                                                2496          2114  \\\n",
       "FileName  ROOM_room6_MUS_pachelbel_DEV_stereomic.wav  do-80236.wav   \n",
       "Class                                    Sound_Piano   Sound_Piano   \n",
       "\n",
       "                     86    \n",
       "FileName  AR_Lick7_FN.wav  \n",
       "Class        Sound_Guitar  "
      ]
     },
     "execution_count": 2,
     "metadata": {},
     "output_type": "execute_result"
    }
   ],
   "source": [
    "df_list = []\n",
    "for loc in ['Train', 'Test']:\n",
    "    df_tmp = pd.read_csv(f\"archive\\Metadata_{loc}.csv\")\n",
    "    df_list.append(df_tmp)\n",
    "df = pd.concat(df_list, axis=0)\n",
    "df['Class'] = df['Class'].replace({\"Sound_Guiatr\": \"Sound_Guitar\"})\n",
    "# remove violin label as it is contaminated by Drums\n",
    "df = df[df['Class']!=\"Sound_Violin\"]\n",
    "print(df.shape)\n",
    "df.sample(5).T"
   ]
  },
  {
   "cell_type": "code",
   "execution_count": 46,
   "metadata": {
    "execution": {
     "iopub.execute_input": "2023-08-25T19:00:06.700694Z",
     "iopub.status.busy": "2023-08-25T19:00:06.699994Z",
     "iopub.status.idle": "2023-08-25T19:00:06.711898Z",
     "shell.execute_reply": "2023-08-25T19:00:06.710804Z",
     "shell.execute_reply.started": "2023-08-25T19:00:06.700661Z"
    }
   },
   "outputs": [
    {
     "data": {
      "text/plain": [
       "Class\n",
       "Sound_Guitar    720\n",
       "Sound_Drum      720\n",
       "Sound_Piano     549\n",
       "Name: count, dtype: int64"
      ]
     },
     "execution_count": 46,
     "metadata": {},
     "output_type": "execute_result"
    }
   ],
   "source": [
    "# Count the files of each class.\n",
    "df['Class'].value_counts()"
   ]
  },
  {
   "cell_type": "markdown",
   "metadata": {},
   "source": [
    "# Setting the labels"
   ]
  },
  {
   "cell_type": "code",
   "execution_count": 4,
   "metadata": {
    "execution": {
     "iopub.execute_input": "2023-08-25T19:00:44.816216Z",
     "iopub.status.busy": "2023-08-25T19:00:44.815824Z",
     "iopub.status.idle": "2023-08-25T19:00:44.823739Z",
     "shell.execute_reply": "2023-08-25T19:00:44.822719Z",
     "shell.execute_reply.started": "2023-08-25T19:00:44.816185Z"
    }
   },
   "outputs": [
    {
     "name": "stdout",
     "output_type": "stream",
     "text": [
      "{0: 'Sound_Guitar', 1: 'Sound_Drum', 2: 'Sound_Piano'} \n",
      "\n",
      " {'Sound_Guitar': 0, 'Sound_Drum': 1, 'Sound_Piano': 2}\n"
     ]
    }
   ],
   "source": [
    "RATE_HZ = 16000 # resampling rate in Hz\n",
    "MAX_LENGTH = 240000 # maximum audio interval length to consider (= RATE_HZ * SECONDS)\n",
    "labels = ['Sound_Guitar', 'Sound_Drum', 'Sound_Piano']\n",
    "label2id, id2label = dict(), dict()\n",
    "for i, label in enumerate(labels):\n",
    "    label2id[label] = i\n",
    "    id2label[i] = label\n",
    "\n",
    "print(id2label, '\\n\\n', label2id)"
   ]
  },
  {
   "cell_type": "markdown",
   "metadata": {},
   "source": [
    "# Add file paths to dataFrame"
   ]
  },
  {
   "cell_type": "code",
   "execution_count": 47,
   "metadata": {
    "execution": {
     "iopub.execute_input": "2023-08-25T19:00:55.458832Z",
     "iopub.status.busy": "2023-08-25T19:00:55.458475Z",
     "iopub.status.idle": "2023-08-25T19:00:55.825239Z",
     "shell.execute_reply": "2023-08-25T19:00:55.823926Z",
     "shell.execute_reply.started": "2023-08-25T19:00:55.458803Z"
    }
   },
   "outputs": [],
   "source": [
    "from pathlib import Path\n",
    "import torchaudio\n",
    "\n",
    "def load_data():\n",
    "    file_list = []\n",
    "    sample_list = []\n",
    "    for file in Path('archive/').glob('*_submission\\*_submission\\*.wav'):\n",
    "        sample_name = file.stem + '.wav' #re.match(r\"(\\d+)\", file.stem).group(0)\n",
    "        file_list.append(file)\n",
    "        sample_list.append(str(sample_name))\n",
    "    dd = pd.DataFrame()\n",
    "    dd['file'] = file_list\n",
    "    dd['FileName'] = sample_list\n",
    "    return dd"
   ]
  },
  {
   "cell_type": "code",
   "execution_count": 48,
   "metadata": {
    "execution": {
     "iopub.execute_input": "2023-08-25T20:20:01.953197Z",
     "iopub.status.busy": "2023-08-25T20:20:01.952773Z",
     "iopub.status.idle": "2023-08-25T20:20:02.012638Z",
     "shell.execute_reply": "2023-08-25T20:20:02.011693Z",
     "shell.execute_reply.started": "2023-08-25T20:20:01.953164Z"
    }
   },
   "outputs": [
    {
     "data": {
      "text/html": [
       "<div>\n",
       "<style scoped>\n",
       "    .dataframe tbody tr th:only-of-type {\n",
       "        vertical-align: middle;\n",
       "    }\n",
       "\n",
       "    .dataframe tbody tr th {\n",
       "        vertical-align: top;\n",
       "    }\n",
       "\n",
       "    .dataframe thead th {\n",
       "        text-align: right;\n",
       "    }\n",
       "</style>\n",
       "<table border=\"1\" class=\"dataframe\">\n",
       "  <thead>\n",
       "    <tr style=\"text-align: right;\">\n",
       "      <th>FileName</th>\n",
       "      <th>reggae_1_120BPM.wav</th>\n",
       "      <th>WaveDrum02_45SD (75).wav</th>\n",
       "      <th>LP_Lick6_FHBV.wav</th>\n",
       "      <th>ROOM_room4_MUS_joplin_DEV_lg.wav</th>\n",
       "      <th>ROOM_room2_MUS_chords_DEV_stereomic.wav</th>\n",
       "    </tr>\n",
       "  </thead>\n",
       "  <tbody>\n",
       "    <tr>\n",
       "      <th>file</th>\n",
       "      <td>archive\\Train_submission\\Train_submission\\regg...</td>\n",
       "      <td>archive\\Train_submission\\Train_submission\\Wave...</td>\n",
       "      <td>archive\\Train_submission\\Train_submission\\LP_L...</td>\n",
       "      <td>archive\\Train_submission\\Train_submission\\ROOM...</td>\n",
       "      <td>archive\\Train_submission\\Train_submission\\ROOM...</td>\n",
       "    </tr>\n",
       "    <tr>\n",
       "      <th>label</th>\n",
       "      <td>0</td>\n",
       "      <td>1</td>\n",
       "      <td>0</td>\n",
       "      <td>2</td>\n",
       "      <td>2</td>\n",
       "    </tr>\n",
       "    <tr>\n",
       "      <th>Class</th>\n",
       "      <td>Sound_Guitar</td>\n",
       "      <td>Sound_Drum</td>\n",
       "      <td>Sound_Guitar</td>\n",
       "      <td>Sound_Piano</td>\n",
       "      <td>Sound_Piano</td>\n",
       "    </tr>\n",
       "  </tbody>\n",
       "</table>\n",
       "</div>"
      ],
      "text/plain": [
       "FileName                                reggae_1_120BPM.wav  \\\n",
       "file      archive\\Train_submission\\Train_submission\\regg...   \n",
       "label                                                     0   \n",
       "Class                                          Sound_Guitar   \n",
       "\n",
       "FileName                           WaveDrum02_45SD (75).wav  \\\n",
       "file      archive\\Train_submission\\Train_submission\\Wave...   \n",
       "label                                                     1   \n",
       "Class                                            Sound_Drum   \n",
       "\n",
       "FileName                                  LP_Lick6_FHBV.wav  \\\n",
       "file      archive\\Train_submission\\Train_submission\\LP_L...   \n",
       "label                                                     0   \n",
       "Class                                          Sound_Guitar   \n",
       "\n",
       "FileName                   ROOM_room4_MUS_joplin_DEV_lg.wav  \\\n",
       "file      archive\\Train_submission\\Train_submission\\ROOM...   \n",
       "label                                                     2   \n",
       "Class                                           Sound_Piano   \n",
       "\n",
       "FileName            ROOM_room2_MUS_chords_DEV_stereomic.wav  \n",
       "file      archive\\Train_submission\\Train_submission\\ROOM...  \n",
       "label                                                     2  \n",
       "Class                                           Sound_Piano  "
      ]
     },
     "execution_count": 48,
     "metadata": {},
     "output_type": "execute_result"
    }
   ],
   "source": [
    "dd = load_data()\n",
    "dd = dd.set_index('FileName').join(df.set_index('FileName'), how='inner')\n",
    "dd = dd[dd['Class'].isin(labels)]\n",
    "dd['label'] = dd['Class'].apply(lambda x: label2id[x])\n",
    "selected_cols = ['file', 'label', 'Class']\n",
    "dd = dd[selected_cols]\n",
    "dd.sample(5).T"
   ]
  },
  {
   "cell_type": "code",
   "execution_count": 49,
   "metadata": {
    "execution": {
     "iopub.execute_input": "2023-08-25T20:20:03.031498Z",
     "iopub.status.busy": "2023-08-25T20:20:03.030510Z",
     "iopub.status.idle": "2023-08-25T20:20:03.042530Z",
     "shell.execute_reply": "2023-08-25T20:20:03.041457Z",
     "shell.execute_reply.started": "2023-08-25T20:20:03.031442Z"
    }
   },
   "outputs": [
    {
     "data": {
      "text/html": [
       "<div>\n",
       "<style scoped>\n",
       "    .dataframe tbody tr th:only-of-type {\n",
       "        vertical-align: middle;\n",
       "    }\n",
       "\n",
       "    .dataframe tbody tr th {\n",
       "        vertical-align: top;\n",
       "    }\n",
       "\n",
       "    .dataframe thead th {\n",
       "        text-align: right;\n",
       "    }\n",
       "</style>\n",
       "<table border=\"1\" class=\"dataframe\">\n",
       "  <thead>\n",
       "    <tr style=\"text-align: right;\">\n",
       "      <th></th>\n",
       "      <th>file</th>\n",
       "      <th>label</th>\n",
       "      <th>Class</th>\n",
       "    </tr>\n",
       "  </thead>\n",
       "  <tbody>\n",
       "    <tr>\n",
       "      <th>0</th>\n",
       "      <td>archive\\Train_submission\\Train_submission\\0295...</td>\n",
       "      <td>2</td>\n",
       "      <td>Sound_Piano</td>\n",
       "    </tr>\n",
       "    <tr>\n",
       "      <th>1</th>\n",
       "      <td>archive\\Train_submission\\Train_submission\\0355...</td>\n",
       "      <td>2</td>\n",
       "      <td>Sound_Piano</td>\n",
       "    </tr>\n",
       "    <tr>\n",
       "      <th>2</th>\n",
       "      <td>archive\\Train_submission\\Train_submission\\04-4...</td>\n",
       "      <td>1</td>\n",
       "      <td>Sound_Drum</td>\n",
       "    </tr>\n",
       "    <tr>\n",
       "      <th>3</th>\n",
       "      <td>archive\\Train_submission\\Train_submission\\0465...</td>\n",
       "      <td>1</td>\n",
       "      <td>Sound_Drum</td>\n",
       "    </tr>\n",
       "    <tr>\n",
       "      <th>4</th>\n",
       "      <td>archive\\Train_submission\\Train_submission\\0543...</td>\n",
       "      <td>1</td>\n",
       "      <td>Sound_Drum</td>\n",
       "    </tr>\n",
       "  </tbody>\n",
       "</table>\n",
       "</div>"
      ],
      "text/plain": [
       "                                                file  label        Class\n",
       "0  archive\\Train_submission\\Train_submission\\0295...      2  Sound_Piano\n",
       "1  archive\\Train_submission\\Train_submission\\0355...      2  Sound_Piano\n",
       "2  archive\\Train_submission\\Train_submission\\04-4...      1   Sound_Drum\n",
       "3  archive\\Train_submission\\Train_submission\\0465...      1   Sound_Drum\n",
       "4  archive\\Train_submission\\Train_submission\\0543...      1   Sound_Drum"
      ]
     },
     "execution_count": 49,
     "metadata": {},
     "output_type": "execute_result"
    }
   ],
   "source": [
    "dd = dd.reset_index(drop=True)\n",
    "dd.head()"
   ]
  },
  {
   "cell_type": "code",
   "execution_count": 50,
   "metadata": {
    "execution": {
     "iopub.execute_input": "2023-08-25T20:20:06.521178Z",
     "iopub.status.busy": "2023-08-25T20:20:06.520793Z",
     "iopub.status.idle": "2023-08-25T20:22:17.232546Z",
     "shell.execute_reply": "2023-08-25T20:22:17.230888Z",
     "shell.execute_reply.started": "2023-08-25T20:20:06.521145Z"
    }
   },
   "outputs": [],
   "source": [
    "#def get_transform_audio(file):\n",
    "#    audio,rate = torchaudio.load(str(file))\n",
    "#    transform = torchaudio.transforms.Resample(rate,RATE_HZ)\n",
    "#    audio = transform(audio).squeeze(0).numpy()\n",
    "#    audio = audio[:MAX_LENGTH] # truncate to first part of audio to save RAM\n",
    "    # return audio only if it is full length audio\n",
    "#    if audio.shape[0]==MAX_LENGTH:\n",
    "#        return audio\n",
    "#dd['audio'] = dd['file'].progress_apply(get_transform_audio)"
   ]
  },
  {
   "cell_type": "code",
   "execution_count": 52,
   "metadata": {
    "execution": {
     "iopub.execute_input": "2023-08-25T20:22:21.464481Z",
     "iopub.status.busy": "2023-08-25T20:22:21.464105Z",
     "iopub.status.idle": "2023-08-25T20:22:21.479044Z",
     "shell.execute_reply": "2023-08-25T20:22:21.478072Z",
     "shell.execute_reply.started": "2023-08-25T20:22:21.464451Z"
    }
   },
   "outputs": [],
   "source": [
    "#d_save = dd\n",
    "#dd = dd.dropna(subset=['audio'])\n",
    "#dd.shape"
   ]
  },
  {
   "cell_type": "code",
   "execution_count": 53,
   "metadata": {},
   "outputs": [
    {
     "data": {
      "text/html": [
       "<div>\n",
       "<style scoped>\n",
       "    .dataframe tbody tr th:only-of-type {\n",
       "        vertical-align: middle;\n",
       "    }\n",
       "\n",
       "    .dataframe tbody tr th {\n",
       "        vertical-align: top;\n",
       "    }\n",
       "\n",
       "    .dataframe thead th {\n",
       "        text-align: right;\n",
       "    }\n",
       "</style>\n",
       "<table border=\"1\" class=\"dataframe\">\n",
       "  <thead>\n",
       "    <tr style=\"text-align: right;\">\n",
       "      <th></th>\n",
       "      <th>FileName</th>\n",
       "      <th>Class</th>\n",
       "    </tr>\n",
       "  </thead>\n",
       "  <tbody>\n",
       "    <tr>\n",
       "      <th>0</th>\n",
       "      <td>1-E1-Major 00.wav</td>\n",
       "      <td>Sound_Guitar</td>\n",
       "    </tr>\n",
       "    <tr>\n",
       "      <th>1</th>\n",
       "      <td>1-E1-Major 01.wav</td>\n",
       "      <td>Sound_Guitar</td>\n",
       "    </tr>\n",
       "    <tr>\n",
       "      <th>2</th>\n",
       "      <td>1-E1-Major 02.wav</td>\n",
       "      <td>Sound_Guitar</td>\n",
       "    </tr>\n",
       "    <tr>\n",
       "      <th>3</th>\n",
       "      <td>1-E1-Major 03.wav</td>\n",
       "      <td>Sound_Guitar</td>\n",
       "    </tr>\n",
       "    <tr>\n",
       "      <th>4</th>\n",
       "      <td>1-E1-Major 04.wav</td>\n",
       "      <td>Sound_Guitar</td>\n",
       "    </tr>\n",
       "  </tbody>\n",
       "</table>\n",
       "</div>"
      ],
      "text/plain": [
       "            FileName         Class\n",
       "0  1-E1-Major 00.wav  Sound_Guitar\n",
       "1  1-E1-Major 01.wav  Sound_Guitar\n",
       "2  1-E1-Major 02.wav  Sound_Guitar\n",
       "3  1-E1-Major 03.wav  Sound_Guitar\n",
       "4  1-E1-Major 04.wav  Sound_Guitar"
      ]
     },
     "execution_count": 53,
     "metadata": {},
     "output_type": "execute_result"
    }
   ],
   "source": [
    "df.head()"
   ]
  },
  {
   "cell_type": "code",
   "execution_count": 58,
   "metadata": {},
   "outputs": [],
   "source": [
    "# Borrowed from https://towardsdatascience.com/audio-deep-learning-made-simple-sound-classification-step-by-step-cebc936bbe5\n",
    "import math, random\n",
    "import torch\n",
    "import torchaudio\n",
    "from torchaudio import transforms\n",
    "from IPython.display import Audio\n",
    "\n",
    "def open(audio_file):\n",
    "    sig, sr = torchaudio.load(audio_file)\n",
    "    return (sig, sr)\n",
    "\n",
    "def rechannel(aud, new_channel):\n",
    "    sig, sr = aud\n",
    "\n",
    "    if (sig.shape[0] == new_channel):\n",
    "      # Nothing to do\n",
    "      return aud\n",
    "\n",
    "    if (new_channel == 1):\n",
    "      # Convert from stereo to mono by selecting only the first channel\n",
    "      resig = sig[:1, :]\n",
    "    else:\n",
    "      # Convert from mono to stereo by duplicating the first channel\n",
    "      resig = torch.cat([sig, sig])\n",
    "\n",
    "    return ((resig, sr))\n",
    "\n",
    "def resample(aud, newsr):\n",
    "    sig, sr = aud\n",
    "\n",
    "    if (sr == newsr):\n",
    "      # Nothing to do\n",
    "      return aud\n",
    "\n",
    "    num_channels = sig.shape[0]\n",
    "    # Resample first channel\n",
    "    resig = torchaudio.transforms.Resample(sr, newsr)(sig[:1,:])\n",
    "    if (num_channels > 1):\n",
    "      # Resample the second channel and merge both channels\n",
    "      retwo = torchaudio.transforms.Resample(sr, newsr)(sig[1:,:])\n",
    "      resig = torch.cat([resig, retwo])\n",
    "\n",
    "    return ((resig, newsr))\n",
    "\n",
    "def pad_trunc(aud, max_ms):\n",
    "    sig, sr = aud\n",
    "    num_rows, sig_len = sig.shape\n",
    "    max_len = sr//1000 * max_ms\n",
    "\n",
    "    if (sig_len > max_len):\n",
    "      # Truncate the signal to the given length\n",
    "      sig = sig[:,:max_len]\n",
    "\n",
    "    elif (sig_len < max_len):\n",
    "      # Length of padding to add at the beginning and end of the signal\n",
    "      pad_begin_len = random.randint(0, max_len - sig_len)\n",
    "      pad_end_len = max_len - sig_len - pad_begin_len\n",
    "\n",
    "      # Pad with 0s\n",
    "      pad_begin = torch.zeros((num_rows, pad_begin_len))\n",
    "      pad_end = torch.zeros((num_rows, pad_end_len))\n",
    "\n",
    "      sig = torch.cat((pad_begin, sig, pad_end), 1)\n",
    "      \n",
    "    return (sig, sr)\n",
    "\n",
    "def time_shift(aud, shift_limit):\n",
    "    sig,sr = aud\n",
    "    _, sig_len = sig.shape\n",
    "    shift_amt = int(random.random() * shift_limit * sig_len)\n",
    "    return (sig.roll(shift_amt), sr)\n",
    "\n",
    "def spectro_gram(aud, n_mels=64, n_fft=1024, hop_len=None):\n",
    "    sig,sr = aud\n",
    "    top_db = 80\n",
    "\n",
    "    # spec has shape [channel, n_mels, time], where channel is mono, stereo etc\n",
    "    spec = transforms.MelSpectrogram(sr, n_fft=n_fft, hop_length=hop_len, n_mels=n_mels)(sig)\n",
    "\n",
    "    # Convert to decibels\n",
    "    spec = transforms.AmplitudeToDB(top_db=top_db)(spec)\n",
    "    return (spec)"
   ]
  },
  {
   "cell_type": "code",
   "execution_count": 103,
   "metadata": {},
   "outputs": [
    {
     "data": {
      "text/html": [
       "<div>\n",
       "<style scoped>\n",
       "    .dataframe tbody tr th:only-of-type {\n",
       "        vertical-align: middle;\n",
       "    }\n",
       "\n",
       "    .dataframe tbody tr th {\n",
       "        vertical-align: top;\n",
       "    }\n",
       "\n",
       "    .dataframe thead th {\n",
       "        text-align: right;\n",
       "    }\n",
       "</style>\n",
       "<table border=\"1\" class=\"dataframe\">\n",
       "  <thead>\n",
       "    <tr style=\"text-align: right;\">\n",
       "      <th></th>\n",
       "      <th>file</th>\n",
       "      <th>label</th>\n",
       "      <th>Class</th>\n",
       "    </tr>\n",
       "  </thead>\n",
       "  <tbody>\n",
       "    <tr>\n",
       "      <th>0</th>\n",
       "      <td>archive\\Train_submission\\Train_submission\\0295...</td>\n",
       "      <td>2</td>\n",
       "      <td>Sound_Piano</td>\n",
       "    </tr>\n",
       "    <tr>\n",
       "      <th>1</th>\n",
       "      <td>archive\\Train_submission\\Train_submission\\0355...</td>\n",
       "      <td>2</td>\n",
       "      <td>Sound_Piano</td>\n",
       "    </tr>\n",
       "    <tr>\n",
       "      <th>2</th>\n",
       "      <td>archive\\Train_submission\\Train_submission\\04-4...</td>\n",
       "      <td>1</td>\n",
       "      <td>Sound_Drum</td>\n",
       "    </tr>\n",
       "    <tr>\n",
       "      <th>3</th>\n",
       "      <td>archive\\Train_submission\\Train_submission\\0465...</td>\n",
       "      <td>1</td>\n",
       "      <td>Sound_Drum</td>\n",
       "    </tr>\n",
       "    <tr>\n",
       "      <th>4</th>\n",
       "      <td>archive\\Train_submission\\Train_submission\\0543...</td>\n",
       "      <td>1</td>\n",
       "      <td>Sound_Drum</td>\n",
       "    </tr>\n",
       "  </tbody>\n",
       "</table>\n",
       "</div>"
      ],
      "text/plain": [
       "                                                file  label        Class\n",
       "0  archive\\Train_submission\\Train_submission\\0295...      2  Sound_Piano\n",
       "1  archive\\Train_submission\\Train_submission\\0355...      2  Sound_Piano\n",
       "2  archive\\Train_submission\\Train_submission\\04-4...      1   Sound_Drum\n",
       "3  archive\\Train_submission\\Train_submission\\0465...      1   Sound_Drum\n",
       "4  archive\\Train_submission\\Train_submission\\0543...      1   Sound_Drum"
      ]
     },
     "execution_count": 103,
     "metadata": {},
     "output_type": "execute_result"
    }
   ],
   "source": [
    "import librosa\n",
    "# Borrowed from https://pytorch.org/tutorials/beginner/audio_preprocessing_tutorial.html\n",
    "def plot_waveform(waveform, sample_rate, title=\"Waveform\", xlim=None, ylim=None):\n",
    "  waveform = waveform.numpy()\n",
    "\n",
    "  num_channels, num_frames = waveform.shape\n",
    "  time_axis = torch.arange(0, num_frames) / sample_rate\n",
    "\n",
    "  figure, axes = plt.subplots(num_channels, 1)\n",
    "  if num_channels == 1:\n",
    "    axes = [axes]\n",
    "  for c in range(num_channels):\n",
    "    axes[c].plot(time_axis, waveform[c], linewidth=1)\n",
    "    axes[c].grid(True)\n",
    "    if num_channels > 1:\n",
    "      axes[c].set_ylabel(f'Channel {c+1}')\n",
    "    if xlim:\n",
    "      axes[c].set_xlim(xlim)\n",
    "    if ylim:\n",
    "      axes[c].set_ylim(ylim)\n",
    "  figure.suptitle(title)\n",
    "  plt.show(block=False)\n",
    "    \n",
    "#https://pytorch.org/audio/main/tutorials/audio_feature_extractions_tutorial.html#sphx-glr-tutorials-audio-feature-extractions-tutorial-py\n",
    "def plot_spectrogram(specgram, title=None, ylabel=\"freq_bin\", ax=None):\n",
    "    if ax is None:\n",
    "        _, ax = plt.subplots(1, 1)\n",
    "    if title is not None:\n",
    "        ax.set_title(title)\n",
    "    ax.set_ylabel(ylabel)\n",
    "    ax.imshow(specgram, origin=\"lower\", aspect=\"auto\", interpolation=\"nearest\")\n",
    "\n",
    "a, b = open(dd['file'][45])    \n",
    "#plot_waveform(a, b)\n",
    "#c,d = time_shift(open(dd['file'][45]), 10)\n",
    "#plot_waveform(c,d)\n",
    "\n",
    "#test = spectro_gram(open(dd['file'][45]))\n",
    "#plot_spectrogram(test)\n",
    "dd.head()\n",
    "#librosa.display.specshow(test.numpy(), shading='test')\n"
   ]
  },
  {
   "cell_type": "code",
   "execution_count": 92,
   "metadata": {},
   "outputs": [],
   "source": [
    "import math, random\n",
    "import torch\n",
    "import torchaudio\n",
    "from torchaudio import transforms\n",
    "from IPython.display import Audio\n",
    "\n",
    "def open(audio_file):\n",
    "    sig, sr = librosa.load(audio_file)\n",
    "    return (sig, sr)\n",
    "\n",
    "def spectro_gram(aud, n_mels=64, n_fft=1024, hop_len=None):\n",
    "    sig,sr = aud\n",
    "    #top_db = 80\n",
    "\n",
    "    librosa.feature.melspectrogram(y=sig, sr=sr)\n",
    "\n",
    "    plt.figure(figsize=(10, 4))\n",
    "    librosa.display.specshow(librosa.power_to_db(sig, ref=np.max), y_axis='mel', fmax=8000, x_axis='time')\n",
    "    plt.colorbar(format='%+2.0f dB')\n",
    "    plt.title('Mel spectrogram')\n",
    "    plt.tight_layout()\n",
    "    plt.show()\n",
    "    #spec = transforms.MelSpectrogram(sr, n_fft=n_fft, hop_length=hop_len, n_mels=n_mels)(sig)\n",
    "\n",
    "    # Convert to decibels\n",
    "    #spec = transforms.AmplitudeToDB(top_db=top_db)(spec)\n",
    "    return #(spec)"
   ]
  },
  {
   "cell_type": "code",
   "execution_count": 104,
   "metadata": {},
   "outputs": [
    {
     "data": {
      "text/plain": [
       "<matplotlib.collections.QuadMesh at 0x21bbe883c10>"
      ]
     },
     "execution_count": 104,
     "metadata": {},
     "output_type": "execute_result"
    },
    {
     "data": {
      "image/png": "[encoded data removed]",
      "text/plain": [
       "<Figure size 640x480 with 2 Axes>"
      ]
     },
     "metadata": {},
     "output_type": "display_data"
    }
   ],
   "source": [
    "import pylab\n",
    "sig, fs = librosa.load(dd['file'][0])   \n",
    "# make pictures name \n",
    "#save_path = 'test.jpg'\n",
    "\n",
    "pylab.axis('off') # no axis\n",
    "pylab.axes([0., 0., 1., 1.], frameon=False, xticks=[], yticks=[]) # Remove the white edge\n",
    "S = librosa.feature.melspectrogram(y=sig, sr=fs)\n",
    "librosa.display.specshow(librosa.power_to_db(S, ref=np.max))"
   ]
  },
  {
   "cell_type": "code",
   "execution_count": null,
   "metadata": {},
   "outputs": [],
   "source": []
  },
  {
   "cell_type": "code",
   "execution_count": null,
   "metadata": {},
   "outputs": [],
   "source": []
  },
  {
   "cell_type": "code",
   "execution_count": null,
   "metadata": {},
   "outputs": [],
   "source": []
  },
  {
   "cell_type": "code",
   "execution_count": 56,
   "metadata": {
    "execution": {
     "iopub.execute_input": "2023-08-25T20:22:25.289472Z",
     "iopub.status.busy": "2023-08-25T20:22:25.289090Z",
     "iopub.status.idle": "2023-08-25T20:22:25.907669Z",
     "shell.execute_reply": "2023-08-25T20:22:25.906683Z",
     "shell.execute_reply.started": "2023-08-25T20:22:25.289434Z"
    }
   },
   "outputs": [],
   "source": [
    "#%%time\n",
    "# random oversampling of all minority classes\n",
    "#y = dd[['label']]\n",
    "#dd = dd.drop(['label'], axis=1)\n",
    "#ros = RandomOverSampler(random_state=83)\n",
    "#dd, y_resampled = ros.fit_resample(dd, y)\n",
    "#del y\n",
    "#dd['label'] = y_resampled\n",
    "#del y_resampled\n",
    "#gc.collect()"
   ]
  },
  {
   "cell_type": "code",
   "execution_count": 57,
   "metadata": {
    "execution": {
     "iopub.execute_input": "2023-08-25T20:22:29.362714Z",
     "iopub.status.busy": "2023-08-25T20:22:29.362342Z",
     "iopub.status.idle": "2023-08-25T20:22:29.370836Z",
     "shell.execute_reply": "2023-08-25T20:22:29.369778Z",
     "shell.execute_reply.started": "2023-08-25T20:22:29.362685Z"
    }
   },
   "outputs": [
    {
     "data": {
      "text/plain": [
       "((1989, 3),\n",
       " label\n",
       " 1    720\n",
       " 0    720\n",
       " 2    549\n",
       " Name: count, dtype: int64)"
      ]
     },
     "execution_count": 57,
     "metadata": {},
     "output_type": "execute_result"
    }
   ],
   "source": [
    "dd.shape, dd['label'].value_counts()"
   ]
  },
  {
   "cell_type": "code",
   "execution_count": null,
   "metadata": {
    "execution": {
     "iopub.execute_input": "2023-08-25T20:22:30.394314Z",
     "iopub.status.busy": "2023-08-25T20:22:30.393681Z",
     "iopub.status.idle": "2023-08-25T20:22:30.401875Z",
     "shell.execute_reply": "2023-08-25T20:22:30.400960Z",
     "shell.execute_reply.started": "2023-08-25T20:22:30.394274Z"
    }
   },
   "outputs": [],
   "source": [
    "%%time\n",
    "dd = dd.drop(['file'], axis=1)"
   ]
  },
  {
   "cell_type": "code",
   "execution_count": null,
   "metadata": {
    "execution": {
     "iopub.execute_input": "2023-08-25T20:22:31.575364Z",
     "iopub.status.busy": "2023-08-25T20:22:31.574991Z",
     "iopub.status.idle": "2023-08-25T20:22:31.596370Z",
     "shell.execute_reply": "2023-08-25T20:22:31.595296Z",
     "shell.execute_reply.started": "2023-08-25T20:22:31.575333Z"
    }
   },
   "outputs": [],
   "source": [
    "dd.sample(5).T"
   ]
  },
  {
   "cell_type": "code",
   "execution_count": null,
   "metadata": {
    "execution": {
     "iopub.execute_input": "2023-08-25T20:22:35.045198Z",
     "iopub.status.busy": "2023-08-25T20:22:35.043929Z",
     "iopub.status.idle": "2023-08-25T20:22:40.232438Z",
     "shell.execute_reply": "2023-08-25T20:22:40.231408Z",
     "shell.execute_reply.started": "2023-08-25T20:22:35.045153Z"
    }
   },
   "outputs": [],
   "source": [
    "from datasets import Dataset\n",
    "dd = Dataset.from_pandas(dd)"
   ]
  },
  {
   "cell_type": "code",
   "execution_count": null,
   "metadata": {
    "execution": {
     "iopub.execute_input": "2023-08-25T20:22:47.224172Z",
     "iopub.status.busy": "2023-08-25T20:22:47.223755Z",
     "iopub.status.idle": "2023-08-25T20:22:47.232486Z",
     "shell.execute_reply": "2023-08-25T20:22:47.231384Z",
     "shell.execute_reply.started": "2023-08-25T20:22:47.224138Z"
    }
   },
   "outputs": [],
   "source": [
    "from collections import Counter\n",
    "Counter(dd['label']).items()"
   ]
  },
  {
   "cell_type": "code",
   "execution_count": null,
   "metadata": {
    "execution": {
     "iopub.execute_input": "2023-08-25T20:22:48.490756Z",
     "iopub.status.busy": "2023-08-25T20:22:48.490385Z",
     "iopub.status.idle": "2023-08-25T20:22:48.505924Z",
     "shell.execute_reply": "2023-08-25T20:22:48.504805Z",
     "shell.execute_reply.started": "2023-08-25T20:22:48.490728Z"
    }
   },
   "outputs": [],
   "source": [
    "#dd = dd.train_test_split(test_size=0.2)\n",
    "dd"
   ]
  },
  {
   "cell_type": "code",
   "execution_count": null,
   "metadata": {},
   "outputs": [],
   "source": [
    "import librosa\n",
    "import librosa.display\n",
    "y,sr=librosa.load('archive/Test_submission/Test_submission/100bpm-808-like-drum-loop-74838.wav') #load the file\n",
    "librosa.display.waveshow(y,sr=sr, x_axis='time', color='blue')"
   ]
  },
  {
   "cell_type": "code",
   "execution_count": null,
   "metadata": {},
   "outputs": [],
   "source": [
    "def waveform_from_data():\n",
    "    waveform_list = []\n",
    "    for file in Path('archive/').glob('*_submission\\*_submission\\*.wav'):\n",
    "        waveform_list.append(librosa.load(f'{file}'))\n",
    "    d_test = pd.DataFrame()\n",
    "    d_test['waveform'] = waveform_list\n",
    "    return waveform_list\n",
    "\n",
    "\n",
    "dd['waveform'] = waveform_from_data()\n",
    "\n"
   ]
  },
  {
   "cell_type": "code",
   "execution_count": null,
   "metadata": {},
   "outputs": [],
   "source": [
    "dd.sample(5).T\n",
    "dd['waveform'][0]\n",
    "librosa.display.waveshow(dd['waveform'][4][0],sr=sr, x_axis='time', color='blue')"
   ]
  },
  {
   "cell_type": "code",
   "execution_count": null,
   "metadata": {},
   "outputs": [],
   "source": [
    "from torch import nn\n",
    "import torch.nn.functional as F\n",
    "class FirstCnn(nn.Module):\n",
    "    def __init__(self, img_size):\n",
    "        super().__init__()\n",
    "        self.img_size = img_size\n",
    "\n",
    "        self.conv1 = nn.Conv2d(in_channels=3, out_channels=10, kernel_size=3, stride=1, padding=0)\n",
    "        self.conv2 = nn.Conv2d(in_channels=10, out_channels=10, kernel_size=3, stride=1, padding=0)\n",
    "        \n",
    "        # Calculate the output size after two convolutional layers\n",
    "        self.conv_output_size = self.calculate_conv_output_size()\n",
    "        \n",
    "        self.fc1 = nn.Linear(self.conv_output_size, 1)  # Output size is 1 for binary classification (dog or not)\n",
    "        \n",
    "    def calculate_conv_output_size(self):\n",
    "        # Define a dummy input tensor to calculate the output size after convolutions\n",
    "        dummy_input = torch.zeros(1, 3, self.img_size, self.img_size)\n",
    "        dummy_output = self.forward_conv(dummy_input)\n",
    "        return dummy_output.view(1, -1).size(1)\n",
    "\n",
    "    def forward_conv(self, x):\n",
    "        x = F.relu(self.conv1(x))\n",
    "        x = F.relu(self.conv2(x))\n",
    "        return x\n",
    "\n",
    "    def forward(self, x):\n",
    "        x = self.forward_conv(x)\n",
    "        x = x.view(x.size(0), -1)  # Flatten the tensor for fully connected layers\n",
    "        x = torch.sigmoid(self.fc1(x))  # Sigmoid activation for binary classification\n",
    "        return x.squeeze()"
   ]
  },
  {
   "cell_type": "code",
   "execution_count": null,
   "metadata": {},
   "outputs": [],
   "source": [
    "def training_loop_1(model, optimizer, loss_fn, train_loader, val_loader, num_epochs, print_every):\n",
    "    print(\"Starting training\")\n",
    "    device = torch.device(\"cuda\" if torch.cuda.is_available() \n",
    "                                  else \"cpu\")\n",
    "    model.to(device)\n",
    "    train_losses, train_accs, val_losses, val_accs = [], [], [], []\n",
    "\n",
    "    for epoch in range(1, num_epochs+1):\n",
    "        model, train_loss, train_acc = train_epoch_1(model,\n",
    "                                                   optimizer,\n",
    "                                                   loss_fn,\n",
    "                                                   train_loader,\n",
    "                                                   val_loader,\n",
    "                                                   device,\n",
    "                                                   print_every)\n",
    "        val_loss, val_acc = validate_1(model, loss_fn, val_loader, device)\n",
    "        print(f\"Epoch {epoch}/{num_epochs}: \"\n",
    "              f\"Train loss: {sum(train_loss)/len(train_loss):.3f}, \"\n",
    "              f\"Train acc.: {sum(train_acc)/len(train_acc):.3f}, \"\n",
    "              f\"Val. loss: {val_loss:.3f}, \"\n",
    "              f\"Val. acc.: {val_acc:.3f}\")\n",
    "        train_losses.extend(train_loss)\n",
    "        train_accs.extend(train_acc)\n",
    "        val_losses.append(val_loss)\n",
    "        val_accs.append(val_acc)\n",
    "    return model, train_losses, train_accs, val_losses, val_accs\n",
    "\n",
    "def train_epoch_1(model, optimizer, loss_fn, train_loader, val_loader, device, print_every):\n",
    "    # Train:\n",
    "    model.train()\n",
    "    train_loss_batches, train_acc_batches = [], []\n",
    "    num_batches = len(train_loader)\n",
    "    for batch_index, (x, y) in enumerate(train_loader, 1):\n",
    "        inputs, labels = x.to(device), y.to(device)\n",
    "        optimizer.zero_grad()\n",
    "        z = model.forward(inputs)\n",
    "        loss = loss_fn(z, labels.float())\n",
    "        loss.backward()\n",
    "        optimizer.step()\n",
    "        train_loss_batches.append(loss.item())\n",
    "        hard_preds = output_to_label(z)\n",
    "        acc_batch_avg = (hard_preds == labels).float().mean().item()\n",
    "        train_acc_batches.append(acc_batch_avg)\n",
    "\n",
    "        # If you want to print your progress more often than every epoch you can\n",
    "        # set `print_every` to the number of batches you want between every status update.\n",
    "        # Note that the print out will trigger a full validation on the full val. set => slows down training\n",
    "        if print_every is not None and batch_index % print_every == 0:\n",
    "            val_loss, val_acc = validate_1(model, loss_fn, val_loader, device)\n",
    "            model.train()\n",
    "            print(f\"\\tBatch {batch_index}/{num_batches}: \"\n",
    "                  f\"\\tTrain loss: {sum(train_loss_batches[-print_every:])/print_every:.3f}, \"\n",
    "                  f\"\\tTrain acc.: {sum(train_acc_batches[-print_every:])/print_every:.3f}, \"\n",
    "                  f\"\\tVal. loss: {val_loss:.3f}, \"\n",
    "                  f\"\\tVal. acc.: {val_acc:.3f}\")\n",
    "\n",
    "    return model, train_loss_batches, train_acc_batches\n",
    "\n",
    "def validate_1(model, loss_fn, val_loader, device):\n",
    "    val_loss_cum = 0\n",
    "    val_acc_cum = 0\n",
    "    model.eval()\n",
    "    with torch.no_grad():\n",
    "        for batch_index, (x, y) in enumerate(val_loader, 1):\n",
    "            inputs, labels = x.to(device), y.to(device)\n",
    "            z = model.forward(inputs)\n",
    "\n",
    "            batch_loss = loss_fn(z, labels.float())\n",
    "            val_loss_cum += batch_loss.item()\n",
    "            hard_preds = output_to_label(z)\n",
    "            acc_batch_avg = (hard_preds == labels).float().mean().item()\n",
    "            val_acc_cum += acc_batch_avg\n",
    "    return val_loss_cum/len(val_loader), val_acc_cum/len(val_loader)\n",
    "\n",
    "\n",
    "def training_loop(model, optimizer, loss_fn, train_loader, val_loader, num_epochs, print_every):\n",
    "    print(\"Starting training\")\n",
    "    device = torch.device(\"cuda\" if torch.cuda.is_available() \n",
    "                                  else \"cpu\")\n",
    "    model.to(device)\n",
    "    train_losses, train_accs, val_losses, val_accs = [], [], [], []\n",
    "\n",
    "    for epoch in range(1, num_epochs+1):\n",
    "        model, train_loss, train_acc = train_epoch(model,\n",
    "                                                   optimizer,\n",
    "                                                   loss_fn,\n",
    "                                                   train_loader,\n",
    "                                                   val_loader,\n",
    "                                                   device,\n",
    "                                                   print_every)\n",
    "        val_loss, val_acc = validate(model, loss_fn, val_loader, device)\n",
    "        print(f\"Epoch {epoch}/{num_epochs}: \"\n",
    "              f\"Train loss: {sum(train_loss)/len(train_loss):.3f}, \"\n",
    "              f\"Train acc.: {sum(train_acc)/len(train_acc):.3f}, \"\n",
    "              f\"Val. loss: {val_loss:.3f}, \"\n",
    "              f\"Val. acc.: {val_acc:.3f}\")\n",
    "        train_losses.extend(train_loss)\n",
    "        train_accs.extend(train_acc)\n",
    "        val_losses.append(val_loss)\n",
    "        val_accs.append(val_acc)\n",
    "    return model, train_losses, train_accs, val_losses, val_accs\n",
    "\n",
    "def train_epoch(model, optimizer, loss_fn, train_loader, val_loader, device, print_every):\n",
    "    # Train:\n",
    "    model.train()\n",
    "    train_loss_batches, train_acc_batches = [], []\n",
    "    num_batches = len(train_loader)\n",
    "    for batch_index, (x, y) in enumerate(train_loader, 1):\n",
    "        inputs, labels = x.to(device), y.to(device)\n",
    "        optimizer.zero_grad()\n",
    "        z = model.forward(inputs)\n",
    "        loss = loss_fn(z, labels.long())\n",
    "        loss.backward()\n",
    "        optimizer.step()\n",
    "        train_loss_batches.append(loss.item())\n",
    "        hard_preds = output_to_label(z)\n",
    "        hard_preds = hard_preds.argmax(dim=1)\n",
    "        acc_batch_avg = (hard_preds == labels).float().mean().item()\n",
    "        train_acc_batches.append(acc_batch_avg)\n",
    "\n",
    "        # If you want to print your progress more often than every epoch you can\n",
    "        # set `print_every` to the number of batches you want between every status update.\n",
    "        # Note that the print out will trigger a full validation on the full val. set => slows down training\n",
    "        if print_every is not None and batch_index % print_every == 0:\n",
    "            val_loss, val_acc = validate(model, loss_fn, val_loader, device)\n",
    "            model.train()\n",
    "            print(f\"\\tBatch {batch_index}/{num_batches}: \"\n",
    "                  f\"\\tTrain loss: {sum(train_loss_batches[-print_every:])/print_every:.3f}, \"\n",
    "                  f\"\\tTrain acc.: {sum(train_acc_batches[-print_every:])/print_every:.3f}, \"\n",
    "                  f\"\\tVal. loss: {val_loss:.3f}, \"\n",
    "                  f\"\\tVal. acc.: {val_acc:.3f}\")\n",
    "\n",
    "    return model, train_loss_batches, train_acc_batches\n",
    "\n",
    "def validate(model, loss_fn, val_loader, device):\n",
    "    val_loss_cum = 0\n",
    "    val_acc_cum = 0\n",
    "    model.eval()\n",
    "    with torch.no_grad():\n",
    "        for batch_index, (x, y) in enumerate(val_loader, 1):\n",
    "            inputs, labels = x.to(device), y.to(device)\n",
    "            z = model.forward(inputs)\n",
    "\n",
    "            batch_loss = loss_fn(z, labels.long())\n",
    "            val_loss_cum += batch_loss.item()\n",
    "            hard_preds = output_to_label(z)\n",
    "            hard_preds = hard_preds.argmax(dim=1)\n",
    "            acc_batch_avg = (hard_preds == labels).float().mean().item()\n",
    "            val_acc_cum += acc_batch_avg\n",
    "    return val_loss_cum/len(val_loader), val_acc_cum/len(val_loader)"
   ]
  },
  {
   "cell_type": "code",
   "execution_count": null,
   "metadata": {},
   "outputs": [],
   "source": [
    "print(d_test)\n",
    "print(dd.shape())"
   ]
  },
  {
   "cell_type": "code",
   "execution_count": null,
   "metadata": {},
   "outputs": [],
   "source": [
    "from torch.utils.data import DataLoader\n",
    "transform = transforms.Compose([transforms.Resize((32, 32)), transforms.ToTensor()])\n",
    "train_dataloader = DataLoader(DogsCatsData(small_train_path, transform), batch_size=64, shuffle=True)\n",
    "valid_dataloader = DataLoader(DogsCatsData(small_val_path, transform), batch_size=64, shuffle=True)"
   ]
  },
  {
   "cell_type": "code",
   "execution_count": null,
   "metadata": {},
   "outputs": [],
   "source": [
    "from torch import optim\n",
    "loss_fn = nn.CrossEntropyLoss()\n",
    "first_model = FirstCnn(32)\n",
    "optimizer = optim.Adam(first_model.parameters(), lr = 0.005)\n",
    "first_model_32, train_losses_32, train_accs_32, val_losses_32, val_accs_32 = training_loop_1(first_model, optimizer, loss_fn, train_dataloader, valid_dataloader,10,1)"
   ]
  },
  {
   "cell_type": "markdown",
   "metadata": {},
   "source": [
    "# Load facebook/wav2vec2-base-960h model"
   ]
  },
  {
   "cell_type": "code",
   "execution_count": null,
   "metadata": {
    "execution": {
     "iopub.execute_input": "2023-08-25T20:22:50.872499Z",
     "iopub.status.busy": "2023-08-25T20:22:50.872122Z",
     "iopub.status.idle": "2023-08-25T20:22:55.404934Z",
     "shell.execute_reply": "2023-08-25T20:22:55.404003Z",
     "shell.execute_reply.started": "2023-08-25T20:22:50.872469Z"
    }
   },
   "outputs": [],
   "source": [
    "from transformers import AutoFeatureExtractor, AutoModelForAudioClassification\n",
    "\n",
    "model_str = \"facebook/wav2vec2-base-960h\" \n",
    "feature_extractor = AutoFeatureExtractor.from_pretrained(model_str)\n",
    "model = AutoModelForAudioClassification.from_pretrained(model_str,num_labels=len(labels))\n",
    "model.config.id2label = id2label\n",
    "# number of trainable parameters\n",
    "print(model.num_parameters(only_trainable=True)/1e6)"
   ]
  },
  {
   "cell_type": "code",
   "execution_count": null,
   "metadata": {
    "execution": {
     "iopub.execute_input": "2023-08-25T20:22:55.407718Z",
     "iopub.status.busy": "2023-08-25T20:22:55.407114Z",
     "iopub.status.idle": "2023-08-25T20:26:19.692863Z",
     "shell.execute_reply": "2023-08-25T20:26:19.691570Z",
     "shell.execute_reply.started": "2023-08-25T20:22:55.407681Z"
    }
   },
   "outputs": [],
   "source": [
    "def preprocess_function(batch):    \n",
    "    inputs = feature_extractor(batch['audio'], sampling_rate=RATE_HZ, max_length=MAX_LENGTH, truncation=True)\n",
    "    inputs['input_values'] = inputs['input_values'][0]\n",
    "    return inputs\n",
    "\n",
    "dd['test'] = dd['test'].map(preprocess_function, remove_columns=\"audio\", batched=False)\n",
    "dd['train'] = dd['train'].map(preprocess_function, remove_columns=\"audio\", batched=False)"
   ]
  },
  {
   "cell_type": "code",
   "execution_count": null,
   "metadata": {
    "execution": {
     "iopub.execute_input": "2023-08-25T20:26:19.696530Z",
     "iopub.status.busy": "2023-08-25T20:26:19.695747Z",
     "iopub.status.idle": "2023-08-25T20:26:20.280160Z",
     "shell.execute_reply": "2023-08-25T20:26:20.279036Z",
     "shell.execute_reply.started": "2023-08-25T20:26:19.696485Z"
    }
   },
   "outputs": [],
   "source": [
    "gc.collect()"
   ]
  },
  {
   "cell_type": "markdown",
   "metadata": {},
   "source": [
    "# Train and evaluate model"
   ]
  },
  {
   "cell_type": "code",
   "execution_count": null,
   "metadata": {
    "execution": {
     "iopub.execute_input": "2023-08-25T20:26:24.164397Z",
     "iopub.status.busy": "2023-08-25T20:26:24.163984Z",
     "iopub.status.idle": "2023-08-25T20:26:24.638652Z",
     "shell.execute_reply": "2023-08-25T20:26:24.637692Z",
     "shell.execute_reply.started": "2023-08-25T20:26:24.164365Z"
    }
   },
   "outputs": [],
   "source": [
    "import evaluate\n",
    "\n",
    "accuracy = evaluate.load(\"accuracy\")\n",
    "\n",
    "from sklearn.metrics import roc_auc_score\n",
    "def compute_metrics(eval_pred):\n",
    "    # Compute the ROC AUC score\n",
    "    predictions = eval_pred.predictions\n",
    "    predictions = np.exp(predictions)/np.exp(predictions).sum(axis=1, keepdims=True)\n",
    "    label_ids = eval_pred.label_ids\n",
    "    roc_auc = roc_auc_score(label_ids, predictions, average='macro', multi_class='ovr') # one-vs-rest ROC AUC score\n",
    "    \n",
    "    # Calculate accuracy using the loaded accuracy metric\n",
    "    acc_score = accuracy.compute(predictions=predictions.argmax(axis=1), references=label_ids)['accuracy']\n",
    "    \n",
    "    return {\n",
    "        \"roc_auc\": roc_auc,\n",
    "        \"accuracy\": acc_score\n",
    "    }"
   ]
  },
  {
   "cell_type": "code",
   "execution_count": null,
   "metadata": {
    "execution": {
     "iopub.execute_input": "2023-08-25T20:26:25.004977Z",
     "iopub.status.busy": "2023-08-25T20:26:25.004613Z",
     "iopub.status.idle": "2023-08-25T20:26:25.143253Z",
     "shell.execute_reply": "2023-08-25T20:26:25.142248Z",
     "shell.execute_reply.started": "2023-08-25T20:26:25.004947Z"
    }
   },
   "outputs": [],
   "source": [
    "from transformers import TrainingArguments, Trainer\n",
    "batch_size=1\n",
    "warmup_steps=50\n",
    "weight_decay=0.02\n",
    "num_train_epochs=2\n",
    "model_name = \"musical_instrument_detection\"\n",
    "training_args = TrainingArguments(\n",
    "    output_dir=model_name,\n",
    "    logging_dir='./logs',\n",
    "    num_train_epochs=num_train_epochs,\n",
    "    per_device_train_batch_size=batch_size,\n",
    "    per_device_eval_batch_size=batch_size,\n",
    "    learning_rate=5e-6, # 1e-6\n",
    "    logging_strategy='steps',\n",
    "    logging_first_step=True,\n",
    "    load_best_model_at_end=True,\n",
    "    logging_steps=1,\n",
    "    evaluation_strategy='epoch',\n",
    "    warmup_steps=warmup_steps,\n",
    "    weight_decay=weight_decay,\n",
    "    gradient_accumulation_steps=4, \n",
    "    gradient_checkpointing=True,\n",
    "    eval_steps=1,\n",
    "    save_strategy='epoch',\n",
    "    save_total_limit=1, # save fewer checkpoints to limit used space\n",
    "    report_to=\"mlflow\",  # log to mlflow\n",
    ")\n",
    "\n",
    "trainer = Trainer(\n",
    "    model=model,\n",
    "    args=training_args,\n",
    "    train_dataset=dd[\"train\"],\n",
    "    eval_dataset=dd[\"test\"],\n",
    "    tokenizer=feature_extractor,\n",
    "    compute_metrics=compute_metrics,\n",
    ")"
   ]
  },
  {
   "cell_type": "code",
   "execution_count": null,
   "metadata": {
    "execution": {
     "iopub.execute_input": "2023-08-25T20:26:25.896974Z",
     "iopub.status.busy": "2023-08-25T20:26:25.896607Z",
     "iopub.status.idle": "2023-08-25T20:27:18.214166Z",
     "shell.execute_reply": "2023-08-25T20:27:18.213086Z",
     "shell.execute_reply.started": "2023-08-25T20:26:25.896942Z"
    }
   },
   "outputs": [],
   "source": [
    "trainer.evaluate()"
   ]
  },
  {
   "cell_type": "code",
   "execution_count": null,
   "metadata": {
    "execution": {
     "iopub.execute_input": "2023-08-25T20:27:18.216548Z",
     "iopub.status.busy": "2023-08-25T20:27:18.216093Z",
     "iopub.status.idle": "2023-08-25T20:40:19.469288Z",
     "shell.execute_reply": "2023-08-25T20:40:19.468278Z",
     "shell.execute_reply.started": "2023-08-25T20:27:18.216511Z"
    }
   },
   "outputs": [],
   "source": [
    "trainer.train()"
   ]
  },
  {
   "cell_type": "code",
   "execution_count": null,
   "metadata": {
    "execution": {
     "iopub.execute_input": "2023-08-25T20:40:19.471496Z",
     "iopub.status.busy": "2023-08-25T20:40:19.470810Z",
     "iopub.status.idle": "2023-08-25T20:41:11.413982Z",
     "shell.execute_reply": "2023-08-25T20:41:11.412977Z",
     "shell.execute_reply.started": "2023-08-25T20:40:19.471445Z"
    }
   },
   "outputs": [],
   "source": [
    "trainer.evaluate()"
   ]
  },
  {
   "cell_type": "code",
   "execution_count": null,
   "metadata": {
    "execution": {
     "iopub.execute_input": "2023-08-25T20:41:11.417167Z",
     "iopub.status.busy": "2023-08-25T20:41:11.416781Z",
     "iopub.status.idle": "2023-08-25T20:41:12.338501Z",
     "shell.execute_reply": "2023-08-25T20:41:12.336843Z",
     "shell.execute_reply.started": "2023-08-25T20:41:11.417125Z"
    }
   },
   "outputs": [],
   "source": [
    "trainer.save_model()"
   ]
  },
  {
   "cell_type": "code",
   "execution_count": null,
   "metadata": {
    "execution": {
     "iopub.execute_input": "2023-08-25T20:41:12.347732Z",
     "iopub.status.busy": "2023-08-25T20:41:12.344843Z",
     "iopub.status.idle": "2023-08-25T20:41:13.618060Z",
     "shell.execute_reply": "2023-08-25T20:41:13.617068Z",
     "shell.execute_reply.started": "2023-08-25T20:41:12.347689Z"
    }
   },
   "outputs": [],
   "source": [
    "from transformers import pipeline\n",
    "\n",
    "pipe=pipeline('audio-classification',model=model_name,device=0)"
   ]
  },
  {
   "cell_type": "code",
   "execution_count": null,
   "metadata": {
    "execution": {
     "iopub.execute_input": "2023-08-25T20:41:13.620420Z",
     "iopub.status.busy": "2023-08-25T20:41:13.619849Z",
     "iopub.status.idle": "2023-08-25T20:41:13.749029Z",
     "shell.execute_reply": "2023-08-25T20:41:13.747941Z",
     "shell.execute_reply.started": "2023-08-25T20:41:13.620383Z"
    }
   },
   "outputs": [],
   "source": [
    "# Drum example\n",
    "audio,rate=torchaudio.load('/kaggle/input/musical-instruments-sound-dataset/Train_submission/Train_submission/DRUM_SOUND (48).wav')\n",
    "transform=torchaudio.transforms.Resample(rate,RATE_HZ)\n",
    "audio=transform(audio).numpy().reshape(-1)[:MAX_LENGTH]\n",
    "# make a classification pipeline\n",
    "pipe(audio)"
   ]
  },
  {
   "cell_type": "code",
   "execution_count": null,
   "metadata": {
    "execution": {
     "iopub.execute_input": "2023-08-25T20:52:18.335180Z",
     "iopub.status.busy": "2023-08-25T20:52:18.334799Z",
     "iopub.status.idle": "2023-08-25T20:52:18.589051Z",
     "shell.execute_reply": "2023-08-25T20:52:18.588084Z",
     "shell.execute_reply.started": "2023-08-25T20:52:18.335146Z"
    }
   },
   "outputs": [],
   "source": [
    "# Guitar example\n",
    "audio,rate=torchaudio.load('/kaggle/input/musical-instruments-sound-dataset/Test_submission/Test_submission/rock_6_100BPM.wav')\n",
    "transform=torchaudio.transforms.Resample(rate,RATE_HZ)\n",
    "audio=transform(audio).numpy().reshape(-1)[:MAX_LENGTH]\n",
    "print(audio.shape)\n",
    "# make a classification pipeline\n",
    "pipe(audio)"
   ]
  },
  {
   "cell_type": "code",
   "execution_count": null,
   "metadata": {
    "execution": {
     "iopub.execute_input": "2023-08-25T20:52:24.272147Z",
     "iopub.status.busy": "2023-08-25T20:52:24.271077Z",
     "iopub.status.idle": "2023-08-25T20:52:24.291804Z",
     "shell.execute_reply": "2023-08-25T20:52:24.290254Z",
     "shell.execute_reply.started": "2023-08-25T20:52:24.272092Z"
    }
   },
   "outputs": [],
   "source": [
    "from IPython.display import Audio\n",
    "Audio(audio,rate=RATE_HZ)"
   ]
  },
  {
   "cell_type": "markdown",
   "metadata": {},
   "source": [
    "# Send model to Huggingface"
   ]
  },
  {
   "cell_type": "code",
   "execution_count": null,
   "metadata": {
    "execution": {
     "iopub.execute_input": "2023-08-25T20:53:46.430678Z",
     "iopub.status.busy": "2023-08-25T20:53:46.430276Z",
     "iopub.status.idle": "2023-08-25T20:53:46.463421Z",
     "shell.execute_reply": "2023-08-25T20:53:46.462502Z",
     "shell.execute_reply.started": "2023-08-25T20:53:46.430646Z"
    }
   },
   "outputs": [],
   "source": [
    "# finally, save the model to Huggingface\n",
    "from huggingface_hub import notebook_login\n",
    "notebook_login()"
   ]
  },
  {
   "cell_type": "code",
   "execution_count": null,
   "metadata": {
    "execution": {
     "iopub.execute_input": "2023-08-25T20:54:34.655783Z",
     "iopub.status.busy": "2023-08-25T20:54:34.655405Z",
     "iopub.status.idle": "2023-08-25T20:54:34.896215Z",
     "shell.execute_reply": "2023-08-25T20:54:34.895291Z",
     "shell.execute_reply.started": "2023-08-25T20:54:34.655751Z"
    }
   },
   "outputs": [],
   "source": [
    "from huggingface_hub import HfApi\n",
    "api = HfApi()\n",
    "repo_id = f\"dima806/{model_name}\"\n",
    "try:\n",
    "    api.create_repo(repo_id)\n",
    "except:\n",
    "    print(f\"Repo {repo_id} already exists\")"
   ]
  },
  {
   "cell_type": "code",
   "execution_count": null,
   "metadata": {
    "execution": {
     "iopub.execute_input": "2023-08-25T20:54:45.720113Z",
     "iopub.status.busy": "2023-08-25T20:54:45.719724Z",
     "iopub.status.idle": "2023-08-25T20:55:14.819490Z",
     "shell.execute_reply": "2023-08-25T20:55:14.818374Z",
     "shell.execute_reply.started": "2023-08-25T20:54:45.720080Z"
    }
   },
   "outputs": [],
   "source": [
    "api.upload_folder(\n",
    "    folder_path=model_name,\n",
    "    path_in_repo = \".\",\n",
    "    repo_id=repo_id,\n",
    "    repo_type=\"model\"\n",
    ")"
   ]
  },
  {
   "cell_type": "code",
   "execution_count": null,
   "metadata": {},
   "outputs": [],
   "source": []
  }
 ],
 "metadata": {
  "kernelspec": {
   "display_name": "Python 3 (ipykernel)",
   "language": "python",
   "name": "python3"
  },
  "language_info": {
   "codemirror_mode": {
    "name": "ipython",
    "version": 3
   },
   "file_extension": ".py",
   "mimetype": "text/x-python",
   "name": "python",
   "nbconvert_exporter": "python",
   "pygments_lexer": "ipython3",
   "version": "3.9.17"
  }
 },
 "nbformat": 4,
 "nbformat_minor": 4
}

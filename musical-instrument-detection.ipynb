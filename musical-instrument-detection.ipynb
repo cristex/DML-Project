{
 "cells": [
  {
   "cell_type": "markdown",
   "metadata": {},
   "source": [
    "# Importing libraries"
   ]
  },
  {
   "cell_type": "code",
   "execution_count": 1,
   "metadata": {
    "execution": {
     "iopub.execute_input": "2023-08-25T18:32:37.658225Z",
     "iopub.status.busy": "2023-08-25T18:32:37.657740Z",
     "iopub.status.idle": "2023-08-25T18:35:21.089980Z",
     "shell.execute_reply": "2023-08-25T18:35:21.088611Z",
     "shell.execute_reply.started": "2023-08-25T18:32:37.658179Z"
    }
   },
   "outputs": [
    {
     "data": {
      "text/plain": [
       "'\\n#%pip install pydub\\n%pip install librosa\\n%pip install -q evaluate transformers==4.28.1\\n%pip install -U -q datasets\\n%pip install -q torchaudio==0.12\\n#%add-apt-repository -y ppa:savoury1/ffmpeg4 \\n#%apt-get -qq install -y ffmpeg\\n%pip install -q mlflow\\n%pip install soundfile\\n'"
      ]
     },
     "execution_count": 1,
     "metadata": {},
     "output_type": "execute_result"
    }
   ],
   "source": [
    "# Install libraries\n",
    "'''\n",
    "#%pip install pydub\n",
    "%pip install librosa\n",
    "%pip install -q evaluate transformers==4.28.1\n",
    "%pip install -U -q datasets\n",
    "%pip install -q torchaudio==0.12\n",
    "#%add-apt-repository -y ppa:savoury1/ffmpeg4 \n",
    "#%apt-get -qq install -y ffmpeg\n",
    "%pip install -q mlflow\n",
    "%pip install soundfile\n",
    "'''"
   ]
  },
  {
   "cell_type": "code",
   "execution_count": 2,
   "metadata": {
    "execution": {
     "iopub.execute_input": "2023-08-25T18:35:21.092757Z",
     "iopub.status.busy": "2023-08-25T18:35:21.092447Z",
     "iopub.status.idle": "2023-08-25T18:35:25.271497Z",
     "shell.execute_reply": "2023-08-25T18:35:25.269527Z",
     "shell.execute_reply.started": "2023-08-25T18:35:21.092731Z"
    }
   },
   "outputs": [
    {
     "name": "stdout",
     "output_type": "stream",
     "text": [
      "4.28.1\n"
     ]
    }
   ],
   "source": [
    "# Import libraries\n",
    "# TODO: Check if we use all of these later, otherwise remove\n",
    "import pandas as pd\n",
    "import gc\n",
    "import re\n",
    "import numpy as np\n",
    "\n",
    "#import warnings \n",
    "#warnings.filterwarnings(\"ignore\")\n",
    "\n",
    "from tqdm import tqdm\n",
    "tqdm.pandas()\n",
    "#from imblearn.over_sampling import RandomOverSampler\n",
    "#from imblearn.under_sampling import RandomUnderSampler\n",
    "import torch\n",
    "import datasets\n",
    "import transformers\n",
    "print(transformers.__version__)\n",
    "\n",
    "import math, random\n",
    "import torch\n",
    "import torchaudio\n",
    "from torchaudio import transforms\n",
    "from IPython.display import Audio\n",
    "import pylab\n",
    "\n",
    "import librosa\n",
    "import librosa.display\n",
    "\n",
    "from torch.utils.data import DataLoader\n",
    "from torch import nn\n",
    "import torch.nn.functional as F\n",
    "import librosa\n",
    "from datasets import Dataset\n",
    "from collections import Counter\n",
    "from pathlib import Path\n",
    "import torchaudio\n",
    "from torch import optim"
   ]
  },
  {
   "cell_type": "markdown",
   "metadata": {},
   "source": [
    "# Adding all files to dataframe df"
   ]
  },
  {
   "cell_type": "code",
   "execution_count": 3,
   "metadata": {
    "execution": {
     "iopub.execute_input": "2023-08-25T18:59:17.462661Z",
     "iopub.status.busy": "2023-08-25T18:59:17.462252Z",
     "iopub.status.idle": "2023-08-25T18:59:17.492446Z",
     "shell.execute_reply": "2023-08-25T18:59:17.491547Z",
     "shell.execute_reply.started": "2023-08-25T18:59:17.462627Z"
    }
   },
   "outputs": [
    {
     "name": "stdout",
     "output_type": "stream",
     "text": [
      "(1989, 2)\n"
     ]
    },
    {
     "data": {
      "text/html": [
       "<div>\n",
       "<style scoped>\n",
       "    .dataframe tbody tr th:only-of-type {\n",
       "        vertical-align: middle;\n",
       "    }\n",
       "\n",
       "    .dataframe tbody tr th {\n",
       "        vertical-align: top;\n",
       "    }\n",
       "\n",
       "    .dataframe thead th {\n",
       "        text-align: right;\n",
       "    }\n",
       "</style>\n",
       "<table border=\"1\" class=\"dataframe\">\n",
       "  <thead>\n",
       "    <tr style=\"text-align: right;\">\n",
       "      <th></th>\n",
       "      <th>736</th>\n",
       "      <th>2604</th>\n",
       "      <th>1106</th>\n",
       "      <th>104</th>\n",
       "      <th>663</th>\n",
       "    </tr>\n",
       "  </thead>\n",
       "  <tbody>\n",
       "    <tr>\n",
       "      <th>FileName</th>\n",
       "      <td>boje-3-87816.wav</td>\n",
       "      <td>ROOM_room8_MUS_pachelbel_DEV_lg.wav</td>\n",
       "      <td>WaveDrum02_39KD (75).wav</td>\n",
       "      <td>AR_NH_VII.wav</td>\n",
       "      <td>slow_latin_3_100BPM.wav</td>\n",
       "    </tr>\n",
       "    <tr>\n",
       "      <th>Class</th>\n",
       "      <td>Sound_Drum</td>\n",
       "      <td>Sound_Piano</td>\n",
       "      <td>Sound_Drum</td>\n",
       "      <td>Sound_Guitar</td>\n",
       "      <td>Sound_Guitar</td>\n",
       "    </tr>\n",
       "  </tbody>\n",
       "</table>\n",
       "</div>"
      ],
      "text/plain": [
       "                      736                                  2604  \\\n",
       "FileName  boje-3-87816.wav  ROOM_room8_MUS_pachelbel_DEV_lg.wav   \n",
       "Class           Sound_Drum                          Sound_Piano   \n",
       "\n",
       "                              1106           104                      663   \n",
       "FileName  WaveDrum02_39KD (75).wav  AR_NH_VII.wav  slow_latin_3_100BPM.wav  \n",
       "Class                   Sound_Drum   Sound_Guitar             Sound_Guitar  "
      ]
     },
     "execution_count": 3,
     "metadata": {},
     "output_type": "execute_result"
    }
   ],
   "source": [
    "# Read csv files for train and test data\n",
    "df_list = []\n",
    "for loc in ['Train', 'Test']:\n",
    "    df_tmp = pd.read_csv(f\"archive\\Metadata_{loc}.csv\")\n",
    "    df_list.append(df_tmp)\n",
    "\n",
    "df = pd.concat(df_list, axis=0)\n",
    "\n",
    "df['Class'] = df['Class'].replace({\"Sound_Guiatr\": \"Sound_Guitar\"})\n",
    "\n",
    "# remove violin label as it is contaminated by Drums\n",
    "df = df[df['Class']!=\"Sound_Violin\"]\n",
    "\n",
    "print(df.shape)\n",
    "df.sample(5).T"
   ]
  },
  {
   "cell_type": "code",
   "execution_count": 4,
   "metadata": {
    "execution": {
     "iopub.execute_input": "2023-08-25T19:00:06.700694Z",
     "iopub.status.busy": "2023-08-25T19:00:06.699994Z",
     "iopub.status.idle": "2023-08-25T19:00:06.711898Z",
     "shell.execute_reply": "2023-08-25T19:00:06.710804Z",
     "shell.execute_reply.started": "2023-08-25T19:00:06.700661Z"
    }
   },
   "outputs": [
    {
     "data": {
      "text/plain": [
       "Class\n",
       "Sound_Guitar    720\n",
       "Sound_Drum      720\n",
       "Sound_Piano     549\n",
       "Name: count, dtype: int64"
      ]
     },
     "execution_count": 4,
     "metadata": {},
     "output_type": "execute_result"
    }
   ],
   "source": [
    "# Count the files of each class.\n",
    "df['Class'].value_counts()"
   ]
  },
  {
   "cell_type": "markdown",
   "metadata": {},
   "source": [
    "# Setting the labels"
   ]
  },
  {
   "cell_type": "code",
   "execution_count": 5,
   "metadata": {
    "execution": {
     "iopub.execute_input": "2023-08-25T19:00:44.816216Z",
     "iopub.status.busy": "2023-08-25T19:00:44.815824Z",
     "iopub.status.idle": "2023-08-25T19:00:44.823739Z",
     "shell.execute_reply": "2023-08-25T19:00:44.822719Z",
     "shell.execute_reply.started": "2023-08-25T19:00:44.816185Z"
    }
   },
   "outputs": [
    {
     "name": "stdout",
     "output_type": "stream",
     "text": [
      "{0: 'Sound_Guitar', 1: 'Sound_Drum', 2: 'Sound_Piano'} \n",
      "\n",
      " {'Sound_Guitar': 0, 'Sound_Drum': 1, 'Sound_Piano': 2}\n"
     ]
    }
   ],
   "source": [
    "# TODO: These values are unused at the moment\n",
    "RATE_HZ = 16000 # resampling rate in Hz\n",
    "MAX_LENGTH = 240000 # maximum audio interval length to consider (= RATE_HZ * SECONDS)\n",
    "\n",
    "# Change labels to numbers. 0 = guitar, 1 = drum, 2 = piano\n",
    "labels = ['Sound_Guitar', 'Sound_Drum', 'Sound_Piano']\n",
    "label2id, id2label = dict(), dict()\n",
    "for i, label in enumerate(labels):\n",
    "    label2id[label] = i\n",
    "    id2label[i] = label\n",
    "\n",
    "print(id2label, '\\n\\n', label2id)"
   ]
  },
  {
   "cell_type": "markdown",
   "metadata": {},
   "source": [
    "# Add file paths to dataFrame"
   ]
  },
  {
   "cell_type": "code",
   "execution_count": 6,
   "metadata": {
    "execution": {
     "iopub.execute_input": "2023-08-25T19:00:55.458832Z",
     "iopub.status.busy": "2023-08-25T19:00:55.458475Z",
     "iopub.status.idle": "2023-08-25T19:00:55.825239Z",
     "shell.execute_reply": "2023-08-25T19:00:55.823926Z",
     "shell.execute_reply.started": "2023-08-25T19:00:55.458803Z"
    }
   },
   "outputs": [],
   "source": [
    "# Go through the data and add the filenames and filepaths to the sound files.\n",
    "def load_data():\n",
    "    file_list = []\n",
    "    sample_list = []\n",
    "    for file in Path('archive/').glob('*_submission\\*_submission\\*.wav'):\n",
    "        sample_name = file.stem + '.wav' #re.match(r\"(\\d+)\", file.stem).group(0)\n",
    "        file_list.append(file)\n",
    "        sample_list.append(str(sample_name))\n",
    "    dd = pd.DataFrame()\n",
    "    dd['file'] = file_list\n",
    "    dd['FileName'] = sample_list\n",
    "    return dd"
   ]
  },
  {
   "cell_type": "code",
   "execution_count": 7,
   "metadata": {
    "execution": {
     "iopub.execute_input": "2023-08-25T20:20:01.953197Z",
     "iopub.status.busy": "2023-08-25T20:20:01.952773Z",
     "iopub.status.idle": "2023-08-25T20:20:02.012638Z",
     "shell.execute_reply": "2023-08-25T20:20:02.011693Z",
     "shell.execute_reply.started": "2023-08-25T20:20:01.953164Z"
    }
   },
   "outputs": [
    {
     "data": {
      "text/html": [
       "<div>\n",
       "<style scoped>\n",
       "    .dataframe tbody tr th:only-of-type {\n",
       "        vertical-align: middle;\n",
       "    }\n",
       "\n",
       "    .dataframe tbody tr th {\n",
       "        vertical-align: top;\n",
       "    }\n",
       "\n",
       "    .dataframe thead th {\n",
       "        text-align: right;\n",
       "    }\n",
       "</style>\n",
       "<table border=\"1\" class=\"dataframe\">\n",
       "  <thead>\n",
       "    <tr style=\"text-align: right;\">\n",
       "      <th>FileName</th>\n",
       "      <th>AR_B_fret_0-20.wav</th>\n",
       "      <th>ROOM_room4_MUS_mozart_DEV_iphone.wav</th>\n",
       "      <th>drum-beat-02-36276.wav</th>\n",
       "      <th>ROOM_room6_MUS_scale_DEV_redmi.wav</th>\n",
       "      <th>ROOM_room6_MUS_mozart_DEV_ipad.wav</th>\n",
       "    </tr>\n",
       "  </thead>\n",
       "  <tbody>\n",
       "    <tr>\n",
       "      <th>file</th>\n",
       "      <td>archive\\Train_submission\\Train_submission\\AR_B...</td>\n",
       "      <td>archive\\Train_submission\\Train_submission\\ROOM...</td>\n",
       "      <td>archive\\Train_submission\\Train_submission\\drum...</td>\n",
       "      <td>archive\\Train_submission\\Train_submission\\ROOM...</td>\n",
       "      <td>archive\\Train_submission\\Train_submission\\ROOM...</td>\n",
       "    </tr>\n",
       "    <tr>\n",
       "      <th>label</th>\n",
       "      <td>0</td>\n",
       "      <td>2</td>\n",
       "      <td>1</td>\n",
       "      <td>2</td>\n",
       "      <td>2</td>\n",
       "    </tr>\n",
       "    <tr>\n",
       "      <th>Class</th>\n",
       "      <td>Sound_Guitar</td>\n",
       "      <td>Sound_Piano</td>\n",
       "      <td>Sound_Drum</td>\n",
       "      <td>Sound_Piano</td>\n",
       "      <td>Sound_Piano</td>\n",
       "    </tr>\n",
       "  </tbody>\n",
       "</table>\n",
       "</div>"
      ],
      "text/plain": [
       "FileName                                 AR_B_fret_0-20.wav  \\\n",
       "file      archive\\Train_submission\\Train_submission\\AR_B...   \n",
       "label                                                     0   \n",
       "Class                                          Sound_Guitar   \n",
       "\n",
       "FileName               ROOM_room4_MUS_mozart_DEV_iphone.wav  \\\n",
       "file      archive\\Train_submission\\Train_submission\\ROOM...   \n",
       "label                                                     2   \n",
       "Class                                           Sound_Piano   \n",
       "\n",
       "FileName                             drum-beat-02-36276.wav  \\\n",
       "file      archive\\Train_submission\\Train_submission\\drum...   \n",
       "label                                                     1   \n",
       "Class                                            Sound_Drum   \n",
       "\n",
       "FileName                 ROOM_room6_MUS_scale_DEV_redmi.wav  \\\n",
       "file      archive\\Train_submission\\Train_submission\\ROOM...   \n",
       "label                                                     2   \n",
       "Class                                           Sound_Piano   \n",
       "\n",
       "FileName                 ROOM_room6_MUS_mozart_DEV_ipad.wav  \n",
       "file      archive\\Train_submission\\Train_submission\\ROOM...  \n",
       "label                                                     2  \n",
       "Class                                           Sound_Piano  "
      ]
     },
     "execution_count": 7,
     "metadata": {},
     "output_type": "execute_result"
    }
   ],
   "source": [
    "dd = load_data()\n",
    "dd = dd.set_index('FileName').join(df.set_index('FileName'), how='inner')\n",
    "dd = dd[dd['Class'].isin(labels)]\n",
    "dd['label'] = dd['Class'].apply(lambda x: label2id[x])\n",
    "selected_cols = ['file', 'label', 'Class']\n",
    "dd = dd[selected_cols]\n",
    "dd.sample(5).T"
   ]
  },
  {
   "cell_type": "code",
   "execution_count": 8,
   "metadata": {
    "execution": {
     "iopub.execute_input": "2023-08-25T20:20:03.031498Z",
     "iopub.status.busy": "2023-08-25T20:20:03.030510Z",
     "iopub.status.idle": "2023-08-25T20:20:03.042530Z",
     "shell.execute_reply": "2023-08-25T20:20:03.041457Z",
     "shell.execute_reply.started": "2023-08-25T20:20:03.031442Z"
    }
   },
   "outputs": [
    {
     "data": {
      "text/html": [
       "<div>\n",
       "<style scoped>\n",
       "    .dataframe tbody tr th:only-of-type {\n",
       "        vertical-align: middle;\n",
       "    }\n",
       "\n",
       "    .dataframe tbody tr th {\n",
       "        vertical-align: top;\n",
       "    }\n",
       "\n",
       "    .dataframe thead th {\n",
       "        text-align: right;\n",
       "    }\n",
       "</style>\n",
       "<table border=\"1\" class=\"dataframe\">\n",
       "  <thead>\n",
       "    <tr style=\"text-align: right;\">\n",
       "      <th></th>\n",
       "      <th>file</th>\n",
       "      <th>label</th>\n",
       "      <th>Class</th>\n",
       "    </tr>\n",
       "  </thead>\n",
       "  <tbody>\n",
       "    <tr>\n",
       "      <th>0</th>\n",
       "      <td>archive\\Train_submission\\Train_submission\\0295...</td>\n",
       "      <td>2</td>\n",
       "      <td>Sound_Piano</td>\n",
       "    </tr>\n",
       "    <tr>\n",
       "      <th>1</th>\n",
       "      <td>archive\\Train_submission\\Train_submission\\0355...</td>\n",
       "      <td>2</td>\n",
       "      <td>Sound_Piano</td>\n",
       "    </tr>\n",
       "    <tr>\n",
       "      <th>2</th>\n",
       "      <td>archive\\Train_submission\\Train_submission\\04-4...</td>\n",
       "      <td>1</td>\n",
       "      <td>Sound_Drum</td>\n",
       "    </tr>\n",
       "    <tr>\n",
       "      <th>3</th>\n",
       "      <td>archive\\Train_submission\\Train_submission\\0465...</td>\n",
       "      <td>1</td>\n",
       "      <td>Sound_Drum</td>\n",
       "    </tr>\n",
       "    <tr>\n",
       "      <th>4</th>\n",
       "      <td>archive\\Train_submission\\Train_submission\\0543...</td>\n",
       "      <td>1</td>\n",
       "      <td>Sound_Drum</td>\n",
       "    </tr>\n",
       "  </tbody>\n",
       "</table>\n",
       "</div>"
      ],
      "text/plain": [
       "                                                file  label        Class\n",
       "0  archive\\Train_submission\\Train_submission\\0295...      2  Sound_Piano\n",
       "1  archive\\Train_submission\\Train_submission\\0355...      2  Sound_Piano\n",
       "2  archive\\Train_submission\\Train_submission\\04-4...      1   Sound_Drum\n",
       "3  archive\\Train_submission\\Train_submission\\0465...      1   Sound_Drum\n",
       "4  archive\\Train_submission\\Train_submission\\0543...      1   Sound_Drum"
      ]
     },
     "execution_count": 8,
     "metadata": {},
     "output_type": "execute_result"
    }
   ],
   "source": [
    "dd = dd.reset_index(drop=True)\n",
    "dd.head()"
   ]
  },
  {
   "cell_type": "code",
   "execution_count": 9,
   "metadata": {
    "execution": {
     "iopub.execute_input": "2023-08-25T20:22:21.464481Z",
     "iopub.status.busy": "2023-08-25T20:22:21.464105Z",
     "iopub.status.idle": "2023-08-25T20:22:21.479044Z",
     "shell.execute_reply": "2023-08-25T20:22:21.478072Z",
     "shell.execute_reply.started": "2023-08-25T20:22:21.464451Z"
    }
   },
   "outputs": [],
   "source": [
    "#d_save = dd\n",
    "#dd = dd.dropna(subset=['audio'])\n",
    "#dd.shape"
   ]
  },
  {
   "cell_type": "code",
   "execution_count": 10,
   "metadata": {},
   "outputs": [
    {
     "data": {
      "text/html": [
       "<div>\n",
       "<style scoped>\n",
       "    .dataframe tbody tr th:only-of-type {\n",
       "        vertical-align: middle;\n",
       "    }\n",
       "\n",
       "    .dataframe tbody tr th {\n",
       "        vertical-align: top;\n",
       "    }\n",
       "\n",
       "    .dataframe thead th {\n",
       "        text-align: right;\n",
       "    }\n",
       "</style>\n",
       "<table border=\"1\" class=\"dataframe\">\n",
       "  <thead>\n",
       "    <tr style=\"text-align: right;\">\n",
       "      <th></th>\n",
       "      <th>FileName</th>\n",
       "      <th>Class</th>\n",
       "    </tr>\n",
       "  </thead>\n",
       "  <tbody>\n",
       "    <tr>\n",
       "      <th>0</th>\n",
       "      <td>1-E1-Major 00.wav</td>\n",
       "      <td>Sound_Guitar</td>\n",
       "    </tr>\n",
       "    <tr>\n",
       "      <th>1</th>\n",
       "      <td>1-E1-Major 01.wav</td>\n",
       "      <td>Sound_Guitar</td>\n",
       "    </tr>\n",
       "    <tr>\n",
       "      <th>2</th>\n",
       "      <td>1-E1-Major 02.wav</td>\n",
       "      <td>Sound_Guitar</td>\n",
       "    </tr>\n",
       "    <tr>\n",
       "      <th>3</th>\n",
       "      <td>1-E1-Major 03.wav</td>\n",
       "      <td>Sound_Guitar</td>\n",
       "    </tr>\n",
       "    <tr>\n",
       "      <th>4</th>\n",
       "      <td>1-E1-Major 04.wav</td>\n",
       "      <td>Sound_Guitar</td>\n",
       "    </tr>\n",
       "  </tbody>\n",
       "</table>\n",
       "</div>"
      ],
      "text/plain": [
       "            FileName         Class\n",
       "0  1-E1-Major 00.wav  Sound_Guitar\n",
       "1  1-E1-Major 01.wav  Sound_Guitar\n",
       "2  1-E1-Major 02.wav  Sound_Guitar\n",
       "3  1-E1-Major 03.wav  Sound_Guitar\n",
       "4  1-E1-Major 04.wav  Sound_Guitar"
      ]
     },
     "execution_count": 10,
     "metadata": {},
     "output_type": "execute_result"
    }
   ],
   "source": [
    "df.head()"
   ]
  },
  {
   "cell_type": "code",
   "execution_count": 11,
   "metadata": {},
   "outputs": [],
   "source": [
    "# Borrowed from https://pytorch.org/tutorials/beginner/audio_preprocessing_tutorial.html\n",
    "def plot_waveform(waveform, sample_rate, title=\"Waveform\", xlim=None, ylim=None):\n",
    "  waveform = waveform.numpy()\n",
    "\n",
    "  num_channels, num_frames = waveform.shape\n",
    "  time_axis = torch.arange(0, num_frames) / sample_rate\n",
    "\n",
    "  figure, axes = plt.subplots(num_channels, 1)\n",
    "  if num_channels == 1:\n",
    "    axes = [axes]\n",
    "  for c in range(num_channels):\n",
    "    axes[c].plot(time_axis, waveform[c], linewidth=1)\n",
    "    axes[c].grid(True)\n",
    "    if num_channels > 1:\n",
    "      axes[c].set_ylabel(f'Channel {c+1}')\n",
    "    if xlim:\n",
    "      axes[c].set_xlim(xlim)\n",
    "    if ylim:\n",
    "      axes[c].set_ylim(ylim)\n",
    "  figure.suptitle(title)\n",
    "  plt.show(block=False)\n",
    "    \n",
    "#https://pytorch.org/audio/main/tutorials/audio_feature_extractions_tutorial.html#sphx-glr-tutorials-audio-feature-extractions-tutorial-py\n",
    "def plot_spectrogram(specgram, title=None, ylabel=\"freq_bin\", ax=None):\n",
    "    if ax is None:\n",
    "        _, ax = plt.subplots(1, 1)\n",
    "    if title is not None:\n",
    "        ax.set_title(title)\n",
    "    ax.set_ylabel(ylabel)\n",
    "    ax.imshow(specgram, origin=\"lower\", aspect=\"auto\", interpolation=\"nearest\")\n"
   ]
  },
  {
   "cell_type": "code",
   "execution_count": 12,
   "metadata": {},
   "outputs": [],
   "source": [
    "def open(audio_file):\n",
    "    # TODO: Later, the load function can also be used to set the sampling rate and the time of the clip to be used\n",
    "    sig, sr = librosa.load(audio_file)\n",
    "    return (sig, sr)\n",
    "\n",
    "def spectro_gram(aud, n_mels=64, n_fft=1024, hop_len=None):\n",
    "    sig,sr = aud\n",
    "    #top_db = 80\n",
    "\n",
    "    librosa.feature.melspectrogram(y=sig, sr=sr)\n",
    "\n",
    "    plt.figure(figsize=(10, 4))\n",
    "    librosa.display.specshow(librosa.power_to_db(sig, ref=np.max), y_axis='mel', fmax=8000, x_axis='time')\n",
    "    plt.colorbar(format='%+2.0f dB')\n",
    "    plt.title('Mel spectrogram')\n",
    "    plt.tight_layout()\n",
    "    plt.show()\n",
    "    \n",
    "    plt.savefig(\"test.png\")\n",
    "    #spec = transforms.MelSpectrogram(sr, n_fft=n_fft, hop_length=hop_len, n_mels=n_mels)(sig)\n",
    "\n",
    "    # Convert to decibels\n",
    "    #spec = transforms.AmplitudeToDB(top_db=top_db)(spec)\n",
    "    return #(spec)"
   ]
  },
  {
   "cell_type": "markdown",
   "metadata": {},
   "source": [
    "# Display data"
   ]
  },
  {
   "cell_type": "code",
   "execution_count": 13,
   "metadata": {},
   "outputs": [
    {
     "data": {
      "text/plain": [
       "<librosa.display.AdaptiveWaveplot at 0x263f02e79a0>"
      ]
     },
     "execution_count": 13,
     "metadata": {},
     "output_type": "execute_result"
    },
    {
     "data": {
      "image/png": "[encoded data removed]",
      "text/plain": [
       "<Figure size 640x480 with 1 Axes>"
      ]
     },
     "metadata": {},
     "output_type": "display_data"
    }
   ],
   "source": [
    "y,sr=librosa.load('archive/Test_submission/Test_submission/100bpm-808-like-drum-loop-74838.wav') #load the file\n",
    "librosa.display.waveshow(y,sr=sr, axis='time', color='blue')"
   ]
  },
  {
   "cell_type": "code",
   "execution_count": 16,
   "metadata": {},
   "outputs": [
    {
     "data": {
      "image/png": "[encoded data removed]",
      "text/plain": [
       "<Figure size 640x480 with 2 Axes>"
      ]
     },
     "metadata": {},
     "output_type": "display_data"
    }
   ],
   "source": [
    "import matplotlib.pyplot as plt\n",
    "sig, fs = open(dd['file'][45])   \n",
    "# make pictures name \n",
    "#save_path = 'test.jpg'\n",
    "\n",
    "#spectro_gram((sig,fs))\n",
    "\n",
    "pylab.axis('off') # no axis\n",
    "pylab.axes([0., 0., 1., 1.], frameon=False, xticks=[], yticks=[]) # Remove the white edge\n",
    "S = librosa.feature.melspectrogram(y=sig, sr=fs)\n",
    "librosa.display.specshow(librosa.power_to_db(S, ref=np.max))\n",
    "pylab.savefig(\"test.png\")"
   ]
  },
  {
   "cell_type": "code",
   "execution_count": null,
   "metadata": {},
   "outputs": [],
   "source": [
    "# Save the image\n"
   ]
  },
  {
   "cell_type": "code",
   "execution_count": null,
   "metadata": {
    "execution": {
     "iopub.execute_input": "2023-08-25T20:22:29.362714Z",
     "iopub.status.busy": "2023-08-25T20:22:29.362342Z",
     "iopub.status.idle": "2023-08-25T20:22:29.370836Z",
     "shell.execute_reply": "2023-08-25T20:22:29.369778Z",
     "shell.execute_reply.started": "2023-08-25T20:22:29.362685Z"
    }
   },
   "outputs": [],
   "source": [
    "dd.shape, dd['label'].value_counts()"
   ]
  },
  {
   "cell_type": "code",
   "execution_count": null,
   "metadata": {
    "execution": {
     "iopub.execute_input": "2023-08-25T20:22:30.394314Z",
     "iopub.status.busy": "2023-08-25T20:22:30.393681Z",
     "iopub.status.idle": "2023-08-25T20:22:30.401875Z",
     "shell.execute_reply": "2023-08-25T20:22:30.400960Z",
     "shell.execute_reply.started": "2023-08-25T20:22:30.394274Z"
    }
   },
   "outputs": [],
   "source": [
    "%%time\n",
    "dd = dd.drop(['file'], axis=1)"
   ]
  },
  {
   "cell_type": "code",
   "execution_count": null,
   "metadata": {
    "execution": {
     "iopub.execute_input": "2023-08-25T20:22:31.575364Z",
     "iopub.status.busy": "2023-08-25T20:22:31.574991Z",
     "iopub.status.idle": "2023-08-25T20:22:31.596370Z",
     "shell.execute_reply": "2023-08-25T20:22:31.595296Z",
     "shell.execute_reply.started": "2023-08-25T20:22:31.575333Z"
    }
   },
   "outputs": [],
   "source": [
    "dd.sample(5).T"
   ]
  },
  {
   "cell_type": "code",
   "execution_count": null,
   "metadata": {
    "execution": {
     "iopub.execute_input": "2023-08-25T20:22:35.045198Z",
     "iopub.status.busy": "2023-08-25T20:22:35.043929Z",
     "iopub.status.idle": "2023-08-25T20:22:40.232438Z",
     "shell.execute_reply": "2023-08-25T20:22:40.231408Z",
     "shell.execute_reply.started": "2023-08-25T20:22:35.045153Z"
    }
   },
   "outputs": [],
   "source": [
    "dd = Dataset.from_pandas(dd)"
   ]
  },
  {
   "cell_type": "code",
   "execution_count": null,
   "metadata": {
    "execution": {
     "iopub.execute_input": "2023-08-25T20:22:47.224172Z",
     "iopub.status.busy": "2023-08-25T20:22:47.223755Z",
     "iopub.status.idle": "2023-08-25T20:22:47.232486Z",
     "shell.execute_reply": "2023-08-25T20:22:47.231384Z",
     "shell.execute_reply.started": "2023-08-25T20:22:47.224138Z"
    }
   },
   "outputs": [],
   "source": [
    "Counter(dd['label']).items()"
   ]
  },
  {
   "cell_type": "code",
   "execution_count": null,
   "metadata": {},
   "outputs": [],
   "source": [
    "\n",
    "class FirstCnn(nn.Module):\n",
    "    def __init__(self, img_size):\n",
    "        super().__init__()\n",
    "        self.img_size = img_size\n",
    "\n",
    "        self.conv1 = nn.Conv2d(in_channels=3, out_channels=10, kernel_size=3, stride=1, padding=0)\n",
    "        self.conv2 = nn.Conv2d(in_channels=10, out_channels=10, kernel_size=3, stride=1, padding=0)\n",
    "        \n",
    "        # Calculate the output size after two convolutional layers\n",
    "        self.conv_output_size = self.calculate_conv_output_size()\n",
    "        \n",
    "        self.fc1 = nn.Linear(self.conv_output_size, 1)  # Output size is 1 for binary classification (dog or not)\n",
    "        \n",
    "    def calculate_conv_output_size(self):\n",
    "        # Define a dummy input tensor to calculate the output size after convolutions\n",
    "        dummy_input = torch.zeros(1, 3, self.img_size, self.img_size)\n",
    "        dummy_output = self.forward_conv(dummy_input)\n",
    "        return dummy_output.view(1, -1).size(1)\n",
    "\n",
    "    def forward_conv(self, x):\n",
    "        x = F.relu(self.conv1(x))\n",
    "        x = F.relu(self.conv2(x))\n",
    "        return x\n",
    "\n",
    "    def forward(self, x):\n",
    "        x = self.forward_conv(x)\n",
    "        x = x.view(x.size(0), -1)  # Flatten the tensor for fully connected layers\n",
    "        x = torch.sigmoid(self.fc1(x))  # Sigmoid activation for binary classification\n",
    "        return x.squeeze()"
   ]
  },
  {
   "cell_type": "code",
   "execution_count": null,
   "metadata": {},
   "outputs": [],
   "source": [
    "def training_loop_1(model, optimizer, loss_fn, train_loader, val_loader, num_epochs, print_every):\n",
    "    print(\"Starting training\")\n",
    "    device = torch.device(\"cuda\" if torch.cuda.is_available() \n",
    "                                  else \"cpu\")\n",
    "    model.to(device)\n",
    "    train_losses, train_accs, val_losses, val_accs = [], [], [], []\n",
    "\n",
    "    for epoch in range(1, num_epochs+1):\n",
    "        model, train_loss, train_acc = train_epoch_1(model,\n",
    "                                                   optimizer,\n",
    "                                                   loss_fn,\n",
    "                                                   train_loader,\n",
    "                                                   val_loader,\n",
    "                                                   device,\n",
    "                                                   print_every)\n",
    "        val_loss, val_acc = validate_1(model, loss_fn, val_loader, device)\n",
    "        print(f\"Epoch {epoch}/{num_epochs}: \"\n",
    "              f\"Train loss: {sum(train_loss)/len(train_loss):.3f}, \"\n",
    "              f\"Train acc.: {sum(train_acc)/len(train_acc):.3f}, \"\n",
    "              f\"Val. loss: {val_loss:.3f}, \"\n",
    "              f\"Val. acc.: {val_acc:.3f}\")\n",
    "        train_losses.extend(train_loss)\n",
    "        train_accs.extend(train_acc)\n",
    "        val_losses.append(val_loss)\n",
    "        val_accs.append(val_acc)\n",
    "    return model, train_losses, train_accs, val_losses, val_accs\n",
    "\n",
    "def train_epoch_1(model, optimizer, loss_fn, train_loader, val_loader, device, print_every):\n",
    "    # Train:\n",
    "    model.train()\n",
    "    train_loss_batches, train_acc_batches = [], []\n",
    "    num_batches = len(train_loader)\n",
    "    for batch_index, (x, y) in enumerate(train_loader, 1):\n",
    "        inputs, labels = x.to(device), y.to(device)\n",
    "        optimizer.zero_grad()\n",
    "        z = model.forward(inputs)\n",
    "        loss = loss_fn(z, labels.float())\n",
    "        loss.backward()\n",
    "        optimizer.step()\n",
    "        train_loss_batches.append(loss.item())\n",
    "        hard_preds = output_to_label(z)\n",
    "        acc_batch_avg = (hard_preds == labels).float().mean().item()\n",
    "        train_acc_batches.append(acc_batch_avg)\n",
    "\n",
    "        # If you want to print your progress more often than every epoch you can\n",
    "        # set `print_every` to the number of batches you want between every status update.\n",
    "        # Note that the print out will trigger a full validation on the full val. set => slows down training\n",
    "        if print_every is not None and batch_index % print_every == 0:\n",
    "            val_loss, val_acc = validate_1(model, loss_fn, val_loader, device)\n",
    "            model.train()\n",
    "            print(f\"\\tBatch {batch_index}/{num_batches}: \"\n",
    "                  f\"\\tTrain loss: {sum(train_loss_batches[-print_every:])/print_every:.3f}, \"\n",
    "                  f\"\\tTrain acc.: {sum(train_acc_batches[-print_every:])/print_every:.3f}, \"\n",
    "                  f\"\\tVal. loss: {val_loss:.3f}, \"\n",
    "                  f\"\\tVal. acc.: {val_acc:.3f}\")\n",
    "\n",
    "    return model, train_loss_batches, train_acc_batches\n",
    "\n",
    "def validate_1(model, loss_fn, val_loader, device):\n",
    "    val_loss_cum = 0\n",
    "    val_acc_cum = 0\n",
    "    model.eval()\n",
    "    with torch.no_grad():\n",
    "        for batch_index, (x, y) in enumerate(val_loader, 1):\n",
    "            inputs, labels = x.to(device), y.to(device)\n",
    "            z = model.forward(inputs)\n",
    "\n",
    "            batch_loss = loss_fn(z, labels.float())\n",
    "            val_loss_cum += batch_loss.item()\n",
    "            hard_preds = output_to_label(z)\n",
    "            acc_batch_avg = (hard_preds == labels).float().mean().item()\n",
    "            val_acc_cum += acc_batch_avg\n",
    "    return val_loss_cum/len(val_loader), val_acc_cum/len(val_loader)\n",
    "\n",
    "\n",
    "def training_loop(model, optimizer, loss_fn, train_loader, val_loader, num_epochs, print_every):\n",
    "    print(\"Starting training\")\n",
    "    device = torch.device(\"cuda\" if torch.cuda.is_available() \n",
    "                                  else \"cpu\")\n",
    "    model.to(device)\n",
    "    train_losses, train_accs, val_losses, val_accs = [], [], [], []\n",
    "\n",
    "    for epoch in range(1, num_epochs+1):\n",
    "        model, train_loss, train_acc = train_epoch(model,\n",
    "                                                   optimizer,\n",
    "                                                   loss_fn,\n",
    "                                                   train_loader,\n",
    "                                                   val_loader,\n",
    "                                                   device,\n",
    "                                                   print_every)\n",
    "        val_loss, val_acc = validate(model, loss_fn, val_loader, device)\n",
    "        print(f\"Epoch {epoch}/{num_epochs}: \"\n",
    "              f\"Train loss: {sum(train_loss)/len(train_loss):.3f}, \"\n",
    "              f\"Train acc.: {sum(train_acc)/len(train_acc):.3f}, \"\n",
    "              f\"Val. loss: {val_loss:.3f}, \"\n",
    "              f\"Val. acc.: {val_acc:.3f}\")\n",
    "        train_losses.extend(train_loss)\n",
    "        train_accs.extend(train_acc)\n",
    "        val_losses.append(val_loss)\n",
    "        val_accs.append(val_acc)\n",
    "    return model, train_losses, train_accs, val_losses, val_accs\n",
    "\n",
    "def train_epoch(model, optimizer, loss_fn, train_loader, val_loader, device, print_every):\n",
    "    # Train:\n",
    "    model.train()\n",
    "    train_loss_batches, train_acc_batches = [], []\n",
    "    num_batches = len(train_loader)\n",
    "    for batch_index, (x, y) in enumerate(train_loader, 1):\n",
    "        inputs, labels = x.to(device), y.to(device)\n",
    "        optimizer.zero_grad()\n",
    "        z = model.forward(inputs)\n",
    "        loss = loss_fn(z, labels.long())\n",
    "        loss.backward()\n",
    "        optimizer.step()\n",
    "        train_loss_batches.append(loss.item())\n",
    "        hard_preds = output_to_label(z)\n",
    "        hard_preds = hard_preds.argmax(dim=1)\n",
    "        acc_batch_avg = (hard_preds == labels).float().mean().item()\n",
    "        train_acc_batches.append(acc_batch_avg)\n",
    "\n",
    "        # If you want to print your progress more often than every epoch you can\n",
    "        # set `print_every` to the number of batches you want between every status update.\n",
    "        # Note that the print out will trigger a full validation on the full val. set => slows down training\n",
    "        if print_every is not None and batch_index % print_every == 0:\n",
    "            val_loss, val_acc = validate(model, loss_fn, val_loader, device)\n",
    "            model.train()\n",
    "            print(f\"\\tBatch {batch_index}/{num_batches}: \"\n",
    "                  f\"\\tTrain loss: {sum(train_loss_batches[-print_every:])/print_every:.3f}, \"\n",
    "                  f\"\\tTrain acc.: {sum(train_acc_batches[-print_every:])/print_every:.3f}, \"\n",
    "                  f\"\\tVal. loss: {val_loss:.3f}, \"\n",
    "                  f\"\\tVal. acc.: {val_acc:.3f}\")\n",
    "\n",
    "    return model, train_loss_batches, train_acc_batches\n",
    "\n",
    "def validate(model, loss_fn, val_loader, device):\n",
    "    val_loss_cum = 0\n",
    "    val_acc_cum = 0\n",
    "    model.eval()\n",
    "    with torch.no_grad():\n",
    "        for batch_index, (x, y) in enumerate(val_loader, 1):\n",
    "            inputs, labels = x.to(device), y.to(device)\n",
    "            z = model.forward(inputs)\n",
    "\n",
    "            batch_loss = loss_fn(z, labels.long())\n",
    "            val_loss_cum += batch_loss.item()\n",
    "            hard_preds = output_to_label(z)\n",
    "            hard_preds = hard_preds.argmax(dim=1)\n",
    "            acc_batch_avg = (hard_preds == labels).float().mean().item()\n",
    "            val_acc_cum += acc_batch_avg\n",
    "    return val_loss_cum/len(val_loader), val_acc_cum/len(val_loader)"
   ]
  },
  {
   "cell_type": "code",
   "execution_count": null,
   "metadata": {},
   "outputs": [],
   "source": [
    "\n",
    "transform = transforms.Compose([transforms.Resize((32, 32)), transforms.ToTensor()])\n",
    "train_dataloader = DataLoader(DogsCatsData(small_train_path, transform), batch_size=64, shuffle=True)\n",
    "valid_dataloader = DataLoader(DogsCatsData(small_val_path, transform), batch_size=64, shuffle=True)"
   ]
  },
  {
   "cell_type": "code",
   "execution_count": null,
   "metadata": {},
   "outputs": [],
   "source": [
    "\n",
    "loss_fn = nn.CrossEntropyLoss()\n",
    "first_model = FirstCnn(32)\n",
    "optimizer = optim.Adam(first_model.parameters(), lr = 0.005)\n",
    "first_model_32, train_losses_32, train_accs_32, val_losses_32, val_accs_32 = training_loop_1(first_model, optimizer, loss_fn, train_dataloader, valid_dataloader,10,1)"
   ]
  },
  {
   "cell_type": "markdown",
   "metadata": {},
   "source": [
    "# Everything after this point is unused at the moment\n",
    "\n",
    "# Load facebook/wav2vec2-base-960h model"
   ]
  },
  {
   "cell_type": "code",
   "execution_count": null,
   "metadata": {},
   "outputs": [],
   "source": [
    "# Inspired by https://towardsdatascience.com/audio-deep-learning-made-simple-sound-classification-step-by-step-cebc936bbe5\n",
    "# Not used at the moment\n",
    "'''\n",
    "def rechannel(aud, new_channel):\n",
    "    sig, sr = aud\n",
    "\n",
    "    if (sig.shape[0] == new_channel):\n",
    "      # Nothing to do\n",
    "      return aud\n",
    "\n",
    "    if (new_channel == 1):\n",
    "      # Convert from stereo to mono by selecting only the first channel\n",
    "      resig = sig[:1, :]\n",
    "    else:\n",
    "      # Convert from mono to stereo by duplicating the first channel\n",
    "      resig = torch.cat([sig, sig])\n",
    "\n",
    "    return ((resig, sr))\n",
    "\n",
    "def resample(aud, newsr):\n",
    "    sig, sr = aud\n",
    "\n",
    "    if (sr == newsr):\n",
    "      # Nothing to do\n",
    "      return aud\n",
    "\n",
    "    num_channels = sig.shape[0]\n",
    "    # Resample first channel\n",
    "    resig = torchaudio.transforms.Resample(sr, newsr)(sig[:1,:])\n",
    "    if (num_channels > 1):\n",
    "      # Resample the second channel and merge both channels\n",
    "      retwo = torchaudio.transforms.Resample(sr, newsr)(sig[1:,:])\n",
    "      resig = torch.cat([resig, retwo])\n",
    "\n",
    "    return ((resig, newsr))\n",
    "\n",
    "def pad_trunc(aud, max_ms):\n",
    "    sig, sr = aud\n",
    "    num_rows, sig_len = sig.shape\n",
    "    max_len = sr//1000 * max_ms\n",
    "\n",
    "    if (sig_len > max_len):\n",
    "      # Truncate the signal to the given length\n",
    "      sig = sig[:,:max_len]\n",
    "\n",
    "    elif (sig_len < max_len):\n",
    "      # Length of padding to add at the beginning and end of the signal\n",
    "      pad_begin_len = random.randint(0, max_len - sig_len)\n",
    "      pad_end_len = max_len - sig_len - pad_begin_len\n",
    "\n",
    "      # Pad with 0s\n",
    "      pad_begin = torch.zeros((num_rows, pad_begin_len))\n",
    "      pad_end = torch.zeros((num_rows, pad_end_len))\n",
    "\n",
    "      sig = torch.cat((pad_begin, sig, pad_end), 1)\n",
    "      \n",
    "    return (sig, sr)\n",
    "\n",
    "def time_shift(aud, shift_limit):\n",
    "    sig,sr = aud\n",
    "    _, sig_len = sig.shape\n",
    "    shift_amt = int(random.random() * shift_limit * sig_len)\n",
    "    return (sig.roll(shift_amt), sr)\n",
    "'''"
   ]
  },
  {
   "cell_type": "code",
   "execution_count": null,
   "metadata": {},
   "outputs": [],
   "source": [
    "#def get_transform_audio(file):\n",
    "#    audio,rate = torchaudio.load(str(file))\n",
    "#    transform = torchaudio.transforms.Resample(rate,RATE_HZ)\n",
    "#    audio = transform(audio).squeeze(0).numpy()\n",
    "#    audio = audio[:MAX_LENGTH] # truncate to first part of audio to save RAM\n",
    "    # return audio only if it is full length audio\n",
    "#    if audio.shape[0]==MAX_LENGTH:\n",
    "#        return audio\n",
    "#dd['audio'] = dd['file'].progress_apply(get_transform_audio)"
   ]
  },
  {
   "cell_type": "code",
   "execution_count": null,
   "metadata": {
    "execution": {
     "iopub.execute_input": "2023-08-25T20:22:50.872499Z",
     "iopub.status.busy": "2023-08-25T20:22:50.872122Z",
     "iopub.status.idle": "2023-08-25T20:22:55.404934Z",
     "shell.execute_reply": "2023-08-25T20:22:55.404003Z",
     "shell.execute_reply.started": "2023-08-25T20:22:50.872469Z"
    }
   },
   "outputs": [],
   "source": [
    "from transformers import AutoFeatureExtractor, AutoModelForAudioClassification\n",
    "\n",
    "model_str = \"facebook/wav2vec2-base-960h\" \n",
    "feature_extractor = AutoFeatureExtractor.from_pretrained(model_str)\n",
    "model = AutoModelForAudioClassification.from_pretrained(model_str,num_labels=len(labels))\n",
    "model.config.id2label = id2label\n",
    "# number of trainable parameters\n",
    "print(model.num_parameters(only_trainable=True)/1e6)"
   ]
  },
  {
   "cell_type": "code",
   "execution_count": null,
   "metadata": {
    "execution": {
     "iopub.execute_input": "2023-08-25T20:22:55.407718Z",
     "iopub.status.busy": "2023-08-25T20:22:55.407114Z",
     "iopub.status.idle": "2023-08-25T20:26:19.692863Z",
     "shell.execute_reply": "2023-08-25T20:26:19.691570Z",
     "shell.execute_reply.started": "2023-08-25T20:22:55.407681Z"
    }
   },
   "outputs": [],
   "source": [
    "def preprocess_function(batch):    \n",
    "    inputs = feature_extractor(batch['audio'], sampling_rate=RATE_HZ, max_length=MAX_LENGTH, truncation=True)\n",
    "    inputs['input_values'] = inputs['input_values'][0]\n",
    "    return inputs\n",
    "\n",
    "dd['test'] = dd['test'].map(preprocess_function, remove_columns=\"audio\", batched=False)\n",
    "dd['train'] = dd['train'].map(preprocess_function, remove_columns=\"audio\", batched=False)"
   ]
  },
  {
   "cell_type": "code",
   "execution_count": null,
   "metadata": {
    "execution": {
     "iopub.execute_input": "2023-08-25T20:26:19.696530Z",
     "iopub.status.busy": "2023-08-25T20:26:19.695747Z",
     "iopub.status.idle": "2023-08-25T20:26:20.280160Z",
     "shell.execute_reply": "2023-08-25T20:26:20.279036Z",
     "shell.execute_reply.started": "2023-08-25T20:26:19.696485Z"
    }
   },
   "outputs": [],
   "source": [
    "gc.collect()"
   ]
  },
  {
   "cell_type": "markdown",
   "metadata": {},
   "source": [
    "# Train and evaluate model"
   ]
  },
  {
   "cell_type": "code",
   "execution_count": null,
   "metadata": {
    "execution": {
     "iopub.execute_input": "2023-08-25T20:26:24.164397Z",
     "iopub.status.busy": "2023-08-25T20:26:24.163984Z",
     "iopub.status.idle": "2023-08-25T20:26:24.638652Z",
     "shell.execute_reply": "2023-08-25T20:26:24.637692Z",
     "shell.execute_reply.started": "2023-08-25T20:26:24.164365Z"
    }
   },
   "outputs": [],
   "source": [
    "import evaluate\n",
    "\n",
    "accuracy = evaluate.load(\"accuracy\")\n",
    "\n",
    "from sklearn.metrics import roc_auc_score\n",
    "def compute_metrics(eval_pred):\n",
    "    # Compute the ROC AUC score\n",
    "    predictions = eval_pred.predictions\n",
    "    predictions = np.exp(predictions)/np.exp(predictions).sum(axis=1, keepdims=True)\n",
    "    label_ids = eval_pred.label_ids\n",
    "    roc_auc = roc_auc_score(label_ids, predictions, average='macro', multi_class='ovr') # one-vs-rest ROC AUC score\n",
    "    \n",
    "    # Calculate accuracy using the loaded accuracy metric\n",
    "    acc_score = accuracy.compute(predictions=predictions.argmax(axis=1), references=label_ids)['accuracy']\n",
    "    \n",
    "    return {\n",
    "        \"roc_auc\": roc_auc,\n",
    "        \"accuracy\": acc_score\n",
    "    }"
   ]
  },
  {
   "cell_type": "code",
   "execution_count": null,
   "metadata": {
    "execution": {
     "iopub.execute_input": "2023-08-25T20:26:25.004977Z",
     "iopub.status.busy": "2023-08-25T20:26:25.004613Z",
     "iopub.status.idle": "2023-08-25T20:26:25.143253Z",
     "shell.execute_reply": "2023-08-25T20:26:25.142248Z",
     "shell.execute_reply.started": "2023-08-25T20:26:25.004947Z"
    }
   },
   "outputs": [],
   "source": [
    "from transformers import TrainingArguments, Trainer\n",
    "batch_size=1\n",
    "warmup_steps=50\n",
    "weight_decay=0.02\n",
    "num_train_epochs=2\n",
    "model_name = \"musical_instrument_detection\"\n",
    "training_args = TrainingArguments(\n",
    "    output_dir=model_name,\n",
    "    logging_dir='./logs',\n",
    "    num_train_epochs=num_train_epochs,\n",
    "    per_device_train_batch_size=batch_size,\n",
    "    per_device_eval_batch_size=batch_size,\n",
    "    learning_rate=5e-6, # 1e-6\n",
    "    logging_strategy='steps',\n",
    "    logging_first_step=True,\n",
    "    load_best_model_at_end=True,\n",
    "    logging_steps=1,\n",
    "    evaluation_strategy='epoch',\n",
    "    warmup_steps=warmup_steps,\n",
    "    weight_decay=weight_decay,\n",
    "    gradient_accumulation_steps=4, \n",
    "    gradient_checkpointing=True,\n",
    "    eval_steps=1,\n",
    "    save_strategy='epoch',\n",
    "    save_total_limit=1, # save fewer checkpoints to limit used space\n",
    "    report_to=\"mlflow\",  # log to mlflow\n",
    ")\n",
    "\n",
    "trainer = Trainer(\n",
    "    model=model,\n",
    "    args=training_args,\n",
    "    train_dataset=dd[\"train\"],\n",
    "    eval_dataset=dd[\"test\"],\n",
    "    tokenizer=feature_extractor,\n",
    "    compute_metrics=compute_metrics,\n",
    ")"
   ]
  },
  {
   "cell_type": "code",
   "execution_count": null,
   "metadata": {
    "execution": {
     "iopub.execute_input": "2023-08-25T20:26:25.896974Z",
     "iopub.status.busy": "2023-08-25T20:26:25.896607Z",
     "iopub.status.idle": "2023-08-25T20:27:18.214166Z",
     "shell.execute_reply": "2023-08-25T20:27:18.213086Z",
     "shell.execute_reply.started": "2023-08-25T20:26:25.896942Z"
    }
   },
   "outputs": [],
   "source": [
    "trainer.evaluate()"
   ]
  },
  {
   "cell_type": "code",
   "execution_count": null,
   "metadata": {
    "execution": {
     "iopub.execute_input": "2023-08-25T20:27:18.216548Z",
     "iopub.status.busy": "2023-08-25T20:27:18.216093Z",
     "iopub.status.idle": "2023-08-25T20:40:19.469288Z",
     "shell.execute_reply": "2023-08-25T20:40:19.468278Z",
     "shell.execute_reply.started": "2023-08-25T20:27:18.216511Z"
    }
   },
   "outputs": [],
   "source": [
    "trainer.train()"
   ]
  },
  {
   "cell_type": "code",
   "execution_count": null,
   "metadata": {
    "execution": {
     "iopub.execute_input": "2023-08-25T20:40:19.471496Z",
     "iopub.status.busy": "2023-08-25T20:40:19.470810Z",
     "iopub.status.idle": "2023-08-25T20:41:11.413982Z",
     "shell.execute_reply": "2023-08-25T20:41:11.412977Z",
     "shell.execute_reply.started": "2023-08-25T20:40:19.471445Z"
    }
   },
   "outputs": [],
   "source": [
    "trainer.evaluate()"
   ]
  },
  {
   "cell_type": "code",
   "execution_count": null,
   "metadata": {
    "execution": {
     "iopub.execute_input": "2023-08-25T20:41:11.417167Z",
     "iopub.status.busy": "2023-08-25T20:41:11.416781Z",
     "iopub.status.idle": "2023-08-25T20:41:12.338501Z",
     "shell.execute_reply": "2023-08-25T20:41:12.336843Z",
     "shell.execute_reply.started": "2023-08-25T20:41:11.417125Z"
    }
   },
   "outputs": [],
   "source": [
    "trainer.save_model()"
   ]
  },
  {
   "cell_type": "code",
   "execution_count": null,
   "metadata": {
    "execution": {
     "iopub.execute_input": "2023-08-25T20:41:12.347732Z",
     "iopub.status.busy": "2023-08-25T20:41:12.344843Z",
     "iopub.status.idle": "2023-08-25T20:41:13.618060Z",
     "shell.execute_reply": "2023-08-25T20:41:13.617068Z",
     "shell.execute_reply.started": "2023-08-25T20:41:12.347689Z"
    }
   },
   "outputs": [],
   "source": [
    "from transformers import pipeline\n",
    "\n",
    "pipe=pipeline('audio-classification',model=model_name,device=0)"
   ]
  },
  {
   "cell_type": "code",
   "execution_count": null,
   "metadata": {
    "execution": {
     "iopub.execute_input": "2023-08-25T20:41:13.620420Z",
     "iopub.status.busy": "2023-08-25T20:41:13.619849Z",
     "iopub.status.idle": "2023-08-25T20:41:13.749029Z",
     "shell.execute_reply": "2023-08-25T20:41:13.747941Z",
     "shell.execute_reply.started": "2023-08-25T20:41:13.620383Z"
    }
   },
   "outputs": [],
   "source": [
    "# Drum example\n",
    "audio,rate=torchaudio.load('/kaggle/input/musical-instruments-sound-dataset/Train_submission/Train_submission/DRUM_SOUND (48).wav')\n",
    "transform=torchaudio.transforms.Resample(rate,RATE_HZ)\n",
    "audio=transform(audio).numpy().reshape(-1)[:MAX_LENGTH]\n",
    "# make a classification pipeline\n",
    "pipe(audio)"
   ]
  },
  {
   "cell_type": "code",
   "execution_count": null,
   "metadata": {
    "execution": {
     "iopub.execute_input": "2023-08-25T20:52:18.335180Z",
     "iopub.status.busy": "2023-08-25T20:52:18.334799Z",
     "iopub.status.idle": "2023-08-25T20:52:18.589051Z",
     "shell.execute_reply": "2023-08-25T20:52:18.588084Z",
     "shell.execute_reply.started": "2023-08-25T20:52:18.335146Z"
    }
   },
   "outputs": [],
   "source": [
    "# Guitar example\n",
    "audio,rate=torchaudio.load('/kaggle/input/musical-instruments-sound-dataset/Test_submission/Test_submission/rock_6_100BPM.wav')\n",
    "transform=torchaudio.transforms.Resample(rate,RATE_HZ)\n",
    "audio=transform(audio).numpy().reshape(-1)[:MAX_LENGTH]\n",
    "print(audio.shape)\n",
    "# make a classification pipeline\n",
    "pipe(audio)"
   ]
  },
  {
   "cell_type": "code",
   "execution_count": null,
   "metadata": {
    "execution": {
     "iopub.execute_input": "2023-08-25T20:52:24.272147Z",
     "iopub.status.busy": "2023-08-25T20:52:24.271077Z",
     "iopub.status.idle": "2023-08-25T20:52:24.291804Z",
     "shell.execute_reply": "2023-08-25T20:52:24.290254Z",
     "shell.execute_reply.started": "2023-08-25T20:52:24.272092Z"
    }
   },
   "outputs": [],
   "source": [
    "from IPython.display import Audio\n",
    "Audio(audio,rate=RATE_HZ)"
   ]
  },
  {
   "cell_type": "markdown",
   "metadata": {},
   "source": [
    "# Send model to Huggingface"
   ]
  },
  {
   "cell_type": "code",
   "execution_count": null,
   "metadata": {
    "execution": {
     "iopub.execute_input": "2023-08-25T20:53:46.430678Z",
     "iopub.status.busy": "2023-08-25T20:53:46.430276Z",
     "iopub.status.idle": "2023-08-25T20:53:46.463421Z",
     "shell.execute_reply": "2023-08-25T20:53:46.462502Z",
     "shell.execute_reply.started": "2023-08-25T20:53:46.430646Z"
    }
   },
   "outputs": [],
   "source": [
    "# finally, save the model to Huggingface\n",
    "from huggingface_hub import notebook_login\n",
    "notebook_login()"
   ]
  },
  {
   "cell_type": "code",
   "execution_count": null,
   "metadata": {
    "execution": {
     "iopub.execute_input": "2023-08-25T20:54:34.655783Z",
     "iopub.status.busy": "2023-08-25T20:54:34.655405Z",
     "iopub.status.idle": "2023-08-25T20:54:34.896215Z",
     "shell.execute_reply": "2023-08-25T20:54:34.895291Z",
     "shell.execute_reply.started": "2023-08-25T20:54:34.655751Z"
    }
   },
   "outputs": [],
   "source": [
    "from huggingface_hub import HfApi\n",
    "api = HfApi()\n",
    "repo_id = f\"dima806/{model_name}\"\n",
    "try:\n",
    "    api.create_repo(repo_id)\n",
    "except:\n",
    "    print(f\"Repo {repo_id} already exists\")"
   ]
  },
  {
   "cell_type": "code",
   "execution_count": null,
   "metadata": {
    "execution": {
     "iopub.execute_input": "2023-08-25T20:54:45.720113Z",
     "iopub.status.busy": "2023-08-25T20:54:45.719724Z",
     "iopub.status.idle": "2023-08-25T20:55:14.819490Z",
     "shell.execute_reply": "2023-08-25T20:55:14.818374Z",
     "shell.execute_reply.started": "2023-08-25T20:54:45.720080Z"
    }
   },
   "outputs": [],
   "source": [
    "api.upload_folder(\n",
    "    folder_path=model_name,\n",
    "    path_in_repo = \".\",\n",
    "    repo_id=repo_id,\n",
    "    repo_type=\"model\"\n",
    ")"
   ]
  },
  {
   "cell_type": "code",
   "execution_count": null,
   "metadata": {},
   "outputs": [],
   "source": []
  }
 ],
 "metadata": {
  "kernelspec": {
   "display_name": "Python 3 (ipykernel)",
   "language": "python",
   "name": "python3"
  },
  "language_info": {
   "codemirror_mode": {
    "name": "ipython",
    "version": 3
   },
   "file_extension": ".py",
   "mimetype": "text/x-python",
   "name": "python",
   "nbconvert_exporter": "python",
   "pygments_lexer": "ipython3",
   "version": "3.9.17"
  }
 },
 "nbformat": 4,
 "nbformat_minor": 4
}
